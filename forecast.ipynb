{
 "cells": [
  {
   "cell_type": "markdown",
   "id": "7f64aff0",
   "metadata": {},
   "source": [
    "\n",
    "# Amazon Forecast: predicting time-series at scale\n",
    "\n",
    "Forecasting is used in a variety of applications and business use cases: \n",
    "\n",
    "For example, \n",
    "- Retailers need to forecast the sales of their products to decide how much stock they need by location, \n",
    "- Manufacturers need to estimate the number of parts required at their factories to optimize their supply chain, \n",
    "- Businesses need to estimate their flexible workforce needs, \n",
    "- Utilities need to forecast electricity consumption needs in order to attain an efficient energy network, and \n",
    "- Enterprises need to estimate their cloud infrastructure needs."
   ]
  },
  {
   "cell_type": "markdown",
   "id": "20c7ed5c",
   "metadata": {},
   "source": [
    "\n",
    "## Table of Contents\n",
    "\n",
    "* Step 0: Setting up\n",
    "* Step 1: Preparing the Datasets\n",
    "* Step 2: Importing the Data\n",
    "    * Step 2a: Creating a Target Dataset\n",
    "    * Step 2b: Creating a Related Dataset\n",
    "    * Step 2c: Update the Dataset Group\n",
    "    * Step 2d: Creating a Target Time Series Dataset Import Job\n",
    "    * Step 2fe: Creating a Item Metadata Dataset Import Job\n",
    "* Step 3: Choosing an Algorithm and Evaluating its Performance\n",
    "* Step 4: Computing Error Metrics from Backtesting\n",
    "* Step 5: Creating a Forecast\n",
    "* Step 6: Querying the Forecasts\n",
    "* Step 7: Exporting the Forecasts\n",
    "* Step 8: Cleaning up your Resources"
   ]
  },
  {
   "cell_type": "markdown",
   "id": "56906f40",
   "metadata": {},
   "source": [
    "### Step 0: Setting up\n",
    "This section sets up the permissions and relevant endpoints."
   ]
  },
  {
   "cell_type": "code",
   "execution_count": 1,
   "id": "a64391b7",
   "metadata": {},
   "outputs": [],
   "source": [
    "#!pip install boto3 pandas matplotlib wget statsmodels\n",
    "#!conda install -c anaconda boto3"
   ]
  },
  {
   "cell_type": "code",
   "execution_count": 2,
   "id": "fe887ca1-4291-48f3-8416-dcf2146fe106",
   "metadata": {},
   "outputs": [],
   "source": [
    "import sys\n",
    "import os\n",
    "\n",
    "import boto3\n",
    "import botocore.exceptions\n",
    "import pandas as pd\n",
    "import matplotlib.pyplot as plt\n",
    "import time\n",
    "import json\n",
    "import gzip\n",
    "import wget\n",
    "import utils"
   ]
  },
  {
   "cell_type": "markdown",
   "id": "b76a6519",
   "metadata": {},
   "source": [
    "Configure the S3 bucket name and region name for this lesson."
   ]
  },
  {
   "cell_type": "code",
   "execution_count": 3,
   "id": "9dbaa1a5",
   "metadata": {},
   "outputs": [
    {
     "name": "stdout",
     "output_type": "stream",
     "text": [
      "An error occurred (BucketAlreadyOwnedByYou) when calling the CreateBucket operation: Your previous request to create the named bucket succeeded and you already own it.\n"
     ]
    }
   ],
   "source": [
    "region = boto3.Session().region_name\n",
    "account_id = boto3.client('sts').get_caller_identity().get('Account')\n",
    "\n",
    "# create unique S3 bucket for saving your own data\n",
    "bucket_name = account_id + '-bh-retail-forecast'\n",
    "if utils.create_bucket(bucket_name, region=region):\n",
    "    print(f\"Success! Created bucket {bucket_name}\")"
   ]
  },
  {
   "cell_type": "code",
   "execution_count": 4,
   "id": "097216f8",
   "metadata": {},
   "outputs": [],
   "source": [
    "session = boto3.Session(region_name=region) \n",
    "s3 = session.client(service_name='s3')\n",
    "forecast = session.client(service_name='forecast') \n",
    "forecastquery = session.client(service_name='forecastquery')"
   ]
  },
  {
   "cell_type": "code",
   "execution_count": 5,
   "id": "59d6d8b1",
   "metadata": {},
   "outputs": [
    {
     "name": "stdout",
     "output_type": "stream",
     "text": [
      "Creating Role for accesssing Amazon Forecast and S3\n",
      "The role ForecastNotebookRole-ItemMetadata exists, ignore to create it\n",
      "Done.\n"
     ]
    }
   ],
   "source": [
    "print(\"Creating Role for accesssing Amazon Forecast and S3\")\n",
    "# Create the role to provide to Amazon Forecast.\n",
    "role_name = \"ForecastNotebookRole-ItemMetadata\"\n",
    "role_arn = utils.get_or_create_iam_role( role_name = role_name )"
   ]
  },
  {
   "cell_type": "markdown",
   "id": "039f5f12",
   "metadata": {},
   "source": [
    "The last part of the setup process is to validate that your account can communicate with Amazon Forecast, the cell below does just that."
   ]
  },
  {
   "cell_type": "code",
   "execution_count": 6,
   "id": "f81f9813",
   "metadata": {},
   "outputs": [
    {
     "data": {
      "text/plain": [
       "{'Predictors': [],\n",
       " 'ResponseMetadata': {'RequestId': 'a0d9ad1d-8458-409e-bd7f-f271c5560242',\n",
       "  'HTTPStatusCode': 200,\n",
       "  'HTTPHeaders': {'content-type': 'application/x-amz-json-1.1',\n",
       "   'date': 'Tue, 21 Sep 2021 15:57:21 GMT',\n",
       "   'x-amzn-requestid': 'a0d9ad1d-8458-409e-bd7f-f271c5560242',\n",
       "   'content-length': '17',\n",
       "   'connection': 'keep-alive'},\n",
       "  'RetryAttempts': 0}}"
      ]
     },
     "execution_count": 6,
     "metadata": {},
     "output_type": "execute_result"
    }
   ],
   "source": [
    "# check you can communicate with Forecast API session\n",
    "forecast.list_predictors()"
   ]
  },
  {
   "cell_type": "markdown",
   "id": "8d1a7942",
   "metadata": {},
   "source": [
    "# Step 1: Preparing the Datasets"
   ]
  },
  {
   "cell_type": "markdown",
   "id": "a3ffc676",
   "metadata": {},
   "source": [
    "https://www.kaggle.com/c/rossmann-store-sales/data?select=store.csv\n",
    "\n",
    "Rossmann operates over 3,000 drug stores in 7 European countries. Currently, Rossmann store managers are tasked with predicting their daily sales for up to six weeks in advance. Store sales are influenced by many factors, including promotions, competition, school and state holidays, seasonality, and locality. With thousands of individual managers predicting sales based on their unique circumstances, the accuracy of results can be quite varied."
   ]
  },
  {
   "cell_type": "code",
   "execution_count": 7,
   "id": "3055ebba",
   "metadata": {},
   "outputs": [],
   "source": [
    "sales_file = './data/sales data-set.csv'\n",
    "store_file = './data/stores data-set.csv'"
   ]
  },
  {
   "cell_type": "markdown",
   "id": "5f0af859-df7d-4c7b-a31c-cd29a97728e7",
   "metadata": {},
   "source": [
    "The following are descriptions for those that aren't.\n",
    "\n",
    "- Id - an Id that represents a (Store, Date) duple within the test set\n",
    "Store - a unique Id for each store\n",
    "- Sales - the turnover for any given day (this is what you are predicting)\n",
    "- Customers - the number of customers on a given day\n",
    "- Open - an indicator for whether the store was open: 0 = closed, 1 = open\n",
    "- StateHoliday - indicates a state holiday. Normally all stores, with few exceptions, are closed on state holidays. Note that all schools are closed on public holidays and weekends. a = public holiday, b = Easter holiday, c = Christmas, 0 = None\n",
    "- SchoolHoliday - indicates if the (Store, Date) was affected by the closure of public schools\n",
    "- StoreType - differentiates between 4 different store models: a, b, c, d\n",
    "- Assortment - describes an assortment level: a = basic, b = extra, c = extended\n",
    "- CompetitionDistance - distance in meters to the nearest competitor store\n",
    "- CompetitionOpenSince[Month/Year] - gives the approximate year and month of the time the nearest competitor was opened\n",
    "- Promo - indicates whether a store is running a promo on that day\n",
    "- Promo2 - Promo2 is a continuing and consecutive promotion for some stores: 0 = store is not participating, 1 = store is participating\n",
    "- Promo2Since[Year/Week] - describes the year and calendar week when the store started participating in Promo2\n",
    "- PromoInterval - describes the consecutive intervals Promo2 is started, naming the months the promotion is started anew. E.g. \"Feb,May,Aug,Nov\" means each round starts in February, May, August, November of any given year for that store"
   ]
  },
  {
   "cell_type": "code",
   "execution_count": 8,
   "id": "bbdb2f29",
   "metadata": {},
   "outputs": [
    {
     "data": {
      "text/html": [
       "<div>\n",
       "<style scoped>\n",
       "    .dataframe tbody tr th:only-of-type {\n",
       "        vertical-align: middle;\n",
       "    }\n",
       "\n",
       "    .dataframe tbody tr th {\n",
       "        vertical-align: top;\n",
       "    }\n",
       "\n",
       "    .dataframe thead th {\n",
       "        text-align: right;\n",
       "    }\n",
       "</style>\n",
       "<table border=\"1\" class=\"dataframe\">\n",
       "  <thead>\n",
       "    <tr style=\"text-align: right;\">\n",
       "      <th></th>\n",
       "      <th>Store</th>\n",
       "      <th>DayOfWeek</th>\n",
       "      <th>Date</th>\n",
       "      <th>Sales</th>\n",
       "      <th>Customers</th>\n",
       "      <th>Open</th>\n",
       "      <th>Promo</th>\n",
       "      <th>StateHoliday</th>\n",
       "      <th>SchoolHoliday</th>\n",
       "    </tr>\n",
       "  </thead>\n",
       "  <tbody>\n",
       "    <tr>\n",
       "      <th>0</th>\n",
       "      <td>1</td>\n",
       "      <td>5</td>\n",
       "      <td>2015-07-31</td>\n",
       "      <td>5263</td>\n",
       "      <td>555</td>\n",
       "      <td>1</td>\n",
       "      <td>1</td>\n",
       "      <td>0</td>\n",
       "      <td>1</td>\n",
       "    </tr>\n",
       "    <tr>\n",
       "      <th>1</th>\n",
       "      <td>2</td>\n",
       "      <td>5</td>\n",
       "      <td>2015-07-31</td>\n",
       "      <td>6064</td>\n",
       "      <td>625</td>\n",
       "      <td>1</td>\n",
       "      <td>1</td>\n",
       "      <td>0</td>\n",
       "      <td>1</td>\n",
       "    </tr>\n",
       "    <tr>\n",
       "      <th>2</th>\n",
       "      <td>3</td>\n",
       "      <td>5</td>\n",
       "      <td>2015-07-31</td>\n",
       "      <td>8314</td>\n",
       "      <td>821</td>\n",
       "      <td>1</td>\n",
       "      <td>1</td>\n",
       "      <td>0</td>\n",
       "      <td>1</td>\n",
       "    </tr>\n",
       "    <tr>\n",
       "      <th>3</th>\n",
       "      <td>4</td>\n",
       "      <td>5</td>\n",
       "      <td>2015-07-31</td>\n",
       "      <td>13995</td>\n",
       "      <td>1498</td>\n",
       "      <td>1</td>\n",
       "      <td>1</td>\n",
       "      <td>0</td>\n",
       "      <td>1</td>\n",
       "    </tr>\n",
       "    <tr>\n",
       "      <th>4</th>\n",
       "      <td>5</td>\n",
       "      <td>5</td>\n",
       "      <td>2015-07-31</td>\n",
       "      <td>4822</td>\n",
       "      <td>559</td>\n",
       "      <td>1</td>\n",
       "      <td>1</td>\n",
       "      <td>0</td>\n",
       "      <td>1</td>\n",
       "    </tr>\n",
       "  </tbody>\n",
       "</table>\n",
       "</div>"
      ],
      "text/plain": [
       "  Store DayOfWeek       Date  Sales Customers Open Promo StateHoliday  \\\n",
       "0     1         5 2015-07-31   5263       555    1     1            0   \n",
       "1     2         5 2015-07-31   6064       625    1     1            0   \n",
       "2     3         5 2015-07-31   8314       821    1     1            0   \n",
       "3     4         5 2015-07-31  13995      1498    1     1            0   \n",
       "4     5         5 2015-07-31   4822       559    1     1            0   \n",
       "\n",
       "  SchoolHoliday  \n",
       "0             1  \n",
       "1             1  \n",
       "2             1  \n",
       "3             1  \n",
       "4             1  "
      ]
     },
     "execution_count": 8,
     "metadata": {},
     "output_type": "execute_result"
    }
   ],
   "source": [
    "sales_data = pd.read_csv(sales_file,parse_dates=[\"Date\"],dtype='object')\n",
    "sales_data.head(5)\n"
   ]
  },
  {
   "cell_type": "code",
   "execution_count": 9,
   "id": "d8dbd371-fd43-4a97-925d-9d7785670ef8",
   "metadata": {},
   "outputs": [
    {
     "name": "stdout",
     "output_type": "stream",
     "text": [
      "<class 'pandas.core.frame.DataFrame'>\n",
      "RangeIndex: 1017209 entries, 0 to 1017208\n",
      "Data columns (total 9 columns):\n",
      " #   Column         Non-Null Count    Dtype         \n",
      "---  ------         --------------    -----         \n",
      " 0   Store          1017209 non-null  object        \n",
      " 1   DayOfWeek      1017209 non-null  object        \n",
      " 2   Date           1017209 non-null  datetime64[ns]\n",
      " 3   Sales          1017209 non-null  object        \n",
      " 4   Customers      1017209 non-null  object        \n",
      " 5   Open           1017209 non-null  object        \n",
      " 6   Promo          1017209 non-null  object        \n",
      " 7   StateHoliday   1017209 non-null  object        \n",
      " 8   SchoolHoliday  1017209 non-null  object        \n",
      "dtypes: datetime64[ns](1), object(8)\n",
      "memory usage: 69.8+ MB\n"
     ]
    }
   ],
   "source": [
    "sales_data.info()"
   ]
  },
  {
   "cell_type": "code",
   "execution_count": 10,
   "id": "6281576c-8175-4e43-8dd0-36c208ca4651",
   "metadata": {},
   "outputs": [
    {
     "data": {
      "text/html": [
       "<div>\n",
       "<style scoped>\n",
       "    .dataframe tbody tr th:only-of-type {\n",
       "        vertical-align: middle;\n",
       "    }\n",
       "\n",
       "    .dataframe tbody tr th {\n",
       "        vertical-align: top;\n",
       "    }\n",
       "\n",
       "    .dataframe thead th {\n",
       "        text-align: right;\n",
       "    }\n",
       "</style>\n",
       "<table border=\"1\" class=\"dataframe\">\n",
       "  <thead>\n",
       "    <tr style=\"text-align: right;\">\n",
       "      <th></th>\n",
       "      <th>Store</th>\n",
       "      <th>StoreType</th>\n",
       "      <th>Assortment</th>\n",
       "      <th>CompetitionDistance</th>\n",
       "      <th>CompetitionOpenSinceMonth</th>\n",
       "      <th>CompetitionOpenSinceYear</th>\n",
       "      <th>Promo2</th>\n",
       "      <th>Promo2SinceWeek</th>\n",
       "      <th>Promo2SinceYear</th>\n",
       "      <th>PromoInterval</th>\n",
       "    </tr>\n",
       "  </thead>\n",
       "  <tbody>\n",
       "    <tr>\n",
       "      <th>0</th>\n",
       "      <td>1</td>\n",
       "      <td>c</td>\n",
       "      <td>a</td>\n",
       "      <td>1270.0</td>\n",
       "      <td>9.0</td>\n",
       "      <td>2008.0</td>\n",
       "      <td>0</td>\n",
       "      <td>NaN</td>\n",
       "      <td>NaN</td>\n",
       "      <td>NaN</td>\n",
       "    </tr>\n",
       "    <tr>\n",
       "      <th>1</th>\n",
       "      <td>2</td>\n",
       "      <td>a</td>\n",
       "      <td>a</td>\n",
       "      <td>570.0</td>\n",
       "      <td>11.0</td>\n",
       "      <td>2007.0</td>\n",
       "      <td>1</td>\n",
       "      <td>13.0</td>\n",
       "      <td>2010.0</td>\n",
       "      <td>Jan,Apr,Jul,Oct</td>\n",
       "    </tr>\n",
       "    <tr>\n",
       "      <th>2</th>\n",
       "      <td>3</td>\n",
       "      <td>a</td>\n",
       "      <td>a</td>\n",
       "      <td>14130.0</td>\n",
       "      <td>12.0</td>\n",
       "      <td>2006.0</td>\n",
       "      <td>1</td>\n",
       "      <td>14.0</td>\n",
       "      <td>2011.0</td>\n",
       "      <td>Jan,Apr,Jul,Oct</td>\n",
       "    </tr>\n",
       "    <tr>\n",
       "      <th>3</th>\n",
       "      <td>4</td>\n",
       "      <td>c</td>\n",
       "      <td>c</td>\n",
       "      <td>620.0</td>\n",
       "      <td>9.0</td>\n",
       "      <td>2009.0</td>\n",
       "      <td>0</td>\n",
       "      <td>NaN</td>\n",
       "      <td>NaN</td>\n",
       "      <td>NaN</td>\n",
       "    </tr>\n",
       "    <tr>\n",
       "      <th>4</th>\n",
       "      <td>5</td>\n",
       "      <td>a</td>\n",
       "      <td>a</td>\n",
       "      <td>29910.0</td>\n",
       "      <td>4.0</td>\n",
       "      <td>2015.0</td>\n",
       "      <td>0</td>\n",
       "      <td>NaN</td>\n",
       "      <td>NaN</td>\n",
       "      <td>NaN</td>\n",
       "    </tr>\n",
       "  </tbody>\n",
       "</table>\n",
       "</div>"
      ],
      "text/plain": [
       "   Store StoreType Assortment  CompetitionDistance  CompetitionOpenSinceMonth  \\\n",
       "0      1         c          a               1270.0                        9.0   \n",
       "1      2         a          a                570.0                       11.0   \n",
       "2      3         a          a              14130.0                       12.0   \n",
       "3      4         c          c                620.0                        9.0   \n",
       "4      5         a          a              29910.0                        4.0   \n",
       "\n",
       "   CompetitionOpenSinceYear  Promo2  Promo2SinceWeek  Promo2SinceYear  \\\n",
       "0                    2008.0       0              NaN              NaN   \n",
       "1                    2007.0       1             13.0           2010.0   \n",
       "2                    2006.0       1             14.0           2011.0   \n",
       "3                    2009.0       0              NaN              NaN   \n",
       "4                    2015.0       0              NaN              NaN   \n",
       "\n",
       "     PromoInterval  \n",
       "0              NaN  \n",
       "1  Jan,Apr,Jul,Oct  \n",
       "2  Jan,Apr,Jul,Oct  \n",
       "3              NaN  \n",
       "4              NaN  "
      ]
     },
     "execution_count": 10,
     "metadata": {},
     "output_type": "execute_result"
    }
   ],
   "source": [
    "store_data = pd.read_csv(store_file)\n",
    "store_data.head(5)"
   ]
  },
  {
   "cell_type": "code",
   "execution_count": 11,
   "id": "f775d777-ea1b-4bd7-8b91-7e022690e801",
   "metadata": {},
   "outputs": [
    {
     "name": "stdout",
     "output_type": "stream",
     "text": [
      "<class 'pandas.core.frame.DataFrame'>\n",
      "RangeIndex: 1115 entries, 0 to 1114\n",
      "Data columns (total 10 columns):\n",
      " #   Column                     Non-Null Count  Dtype  \n",
      "---  ------                     --------------  -----  \n",
      " 0   Store                      1115 non-null   int64  \n",
      " 1   StoreType                  1115 non-null   object \n",
      " 2   Assortment                 1115 non-null   object \n",
      " 3   CompetitionDistance        1112 non-null   float64\n",
      " 4   CompetitionOpenSinceMonth  761 non-null    float64\n",
      " 5   CompetitionOpenSinceYear   761 non-null    float64\n",
      " 6   Promo2                     1115 non-null   int64  \n",
      " 7   Promo2SinceWeek            571 non-null    float64\n",
      " 8   Promo2SinceYear            571 non-null    float64\n",
      " 9   PromoInterval              571 non-null    object \n",
      "dtypes: float64(5), int64(2), object(3)\n",
      "memory usage: 87.2+ KB\n"
     ]
    }
   ],
   "source": [
    "store_data.info()"
   ]
  },
  {
   "cell_type": "code",
   "execution_count": 12,
   "id": "00a3129f-f829-4661-8141-099c4c09462f",
   "metadata": {},
   "outputs": [
    {
     "name": "stdout",
     "output_type": "stream",
     "text": [
      "<class 'pandas.core.frame.DataFrame'>\n",
      "RangeIndex: 1017209 entries, 0 to 1017208\n",
      "Data columns (total 9 columns):\n",
      " #   Column         Non-Null Count    Dtype         \n",
      "---  ------         --------------    -----         \n",
      " 0   Store          1017209 non-null  object        \n",
      " 1   DayOfWeek      1017209 non-null  object        \n",
      " 2   Date           1017209 non-null  datetime64[ns]\n",
      " 3   Sales          1017209 non-null  object        \n",
      " 4   Customers      1017209 non-null  object        \n",
      " 5   Open           1017209 non-null  object        \n",
      " 6   Promo          1017209 non-null  object        \n",
      " 7   StateHoliday   1017209 non-null  object        \n",
      " 8   SchoolHoliday  1017209 non-null  object        \n",
      "dtypes: datetime64[ns](1), object(8)\n",
      "memory usage: 69.8+ MB\n",
      " Sales  Date range : 2013-01-01 00:00:00  to 2015-07-31 00:00:00\n"
     ]
    }
   ],
   "source": [
    "sales_data.info()\n",
    "print(f\" Sales  Date range : {sales_data['Date'].min()}  to {sales_data['Date'].max()}\")"
   ]
  },
  {
   "cell_type": "code",
   "execution_count": 13,
   "id": "bf824e62-3438-4a77-8b6f-36ca45dda261",
   "metadata": {},
   "outputs": [
    {
     "name": "stdout",
     "output_type": "stream",
     "text": [
      "<class 'pandas.core.frame.DataFrame'>\n",
      "RangeIndex: 1017209 entries, 0 to 1017208\n",
      "Data columns (total 9 columns):\n",
      " #   Column         Non-Null Count    Dtype         \n",
      "---  ------         --------------    -----         \n",
      " 0   Store          1017209 non-null  int64         \n",
      " 1   DayOfWeek      1017209 non-null  int64         \n",
      " 2   Date           1017209 non-null  datetime64[ns]\n",
      " 3   Sales          1017209 non-null  int64         \n",
      " 4   Customers      1017209 non-null  int64         \n",
      " 5   Open           1017209 non-null  int64         \n",
      " 6   Promo          1017209 non-null  int64         \n",
      " 7   StateHoliday   1017209 non-null  object        \n",
      " 8   SchoolHoliday  1017209 non-null  int64         \n",
      "dtypes: datetime64[ns](1), int64(7), object(1)\n",
      "memory usage: 69.8+ MB\n"
     ]
    }
   ],
   "source": [
    "sales_data[[\"Store\",\"DayOfWeek\",\"Sales\", \"Customers\",\"Open\",\"Promo\",\"SchoolHoliday\"]] = \\\n",
    "        sales_data[[\"Store\",\"DayOfWeek\",\"Sales\", \"Customers\",\"Open\",\"Promo\",\"SchoolHoliday\"]].apply(pd.to_numeric)\n",
    "sales_data.info()"
   ]
  },
  {
   "cell_type": "code",
   "execution_count": 14,
   "id": "1b2de810-bbc0-4351-b695-975904bd3b02",
   "metadata": {},
   "outputs": [],
   "source": [
    "max_sales = sales_data.loc[:,[\"Store\",\"Sales\"]].groupby(\"Store\").sum()\n",
    "prim_store = max_sales.index[max_sales[\"Sales\"].argmax()]"
   ]
  },
  {
   "cell_type": "code",
   "execution_count": 15,
   "id": "06098cb8-130e-45b3-8503-52024f16fae3",
   "metadata": {},
   "outputs": [
    {
     "data": {
      "text/plain": [
       "262"
      ]
     },
     "execution_count": 15,
     "metadata": {},
     "output_type": "execute_result"
    }
   ],
   "source": [
    "prim_store"
   ]
  },
  {
   "cell_type": "markdown",
   "id": "6246e59f-9244-495a-bf23-c99af81d581e",
   "metadata": {},
   "source": [
    "### Visualizing Sales Data"
   ]
  },
  {
   "cell_type": "code",
   "execution_count": 16,
   "id": "b20d6409-d492-44ac-92de-cf274737803d",
   "metadata": {},
   "outputs": [
    {
     "name": "stdout",
     "output_type": "stream",
     "text": [
      "<class 'pandas.core.frame.DataFrame'>\n",
      "Int64Index: 942 entries, 261 to 1016356\n",
      "Data columns (total 9 columns):\n",
      " #   Column         Non-Null Count  Dtype         \n",
      "---  ------         --------------  -----         \n",
      " 0   Store          942 non-null    int64         \n",
      " 1   DayOfWeek      942 non-null    int64         \n",
      " 2   Date           942 non-null    datetime64[ns]\n",
      " 3   Sales          942 non-null    int64         \n",
      " 4   Customers      942 non-null    int64         \n",
      " 5   Open           942 non-null    int64         \n",
      " 6   Promo          942 non-null    int64         \n",
      " 7   StateHoliday   942 non-null    object        \n",
      " 8   SchoolHoliday  942 non-null    int64         \n",
      "dtypes: datetime64[ns](1), int64(7), object(1)\n",
      "memory usage: 73.6+ KB\n"
     ]
    },
    {
     "data": {
      "text/html": [
       "<div>\n",
       "<style scoped>\n",
       "    .dataframe tbody tr th:only-of-type {\n",
       "        vertical-align: middle;\n",
       "    }\n",
       "\n",
       "    .dataframe tbody tr th {\n",
       "        vertical-align: top;\n",
       "    }\n",
       "\n",
       "    .dataframe thead th {\n",
       "        text-align: right;\n",
       "    }\n",
       "</style>\n",
       "<table border=\"1\" class=\"dataframe\">\n",
       "  <thead>\n",
       "    <tr style=\"text-align: right;\">\n",
       "      <th></th>\n",
       "      <th>Store</th>\n",
       "      <th>DayOfWeek</th>\n",
       "      <th>Date</th>\n",
       "      <th>Sales</th>\n",
       "      <th>Customers</th>\n",
       "      <th>Open</th>\n",
       "      <th>Promo</th>\n",
       "      <th>StateHoliday</th>\n",
       "      <th>SchoolHoliday</th>\n",
       "    </tr>\n",
       "  </thead>\n",
       "  <tbody>\n",
       "    <tr>\n",
       "      <th>1014126</th>\n",
       "      <td>262</td>\n",
       "      <td>4</td>\n",
       "      <td>2013-01-03</td>\n",
       "      <td>16616</td>\n",
       "      <td>2943</td>\n",
       "      <td>1</td>\n",
       "      <td>0</td>\n",
       "      <td>0</td>\n",
       "      <td>1</td>\n",
       "    </tr>\n",
       "    <tr>\n",
       "      <th>1015241</th>\n",
       "      <td>262</td>\n",
       "      <td>3</td>\n",
       "      <td>2013-01-02</td>\n",
       "      <td>16964</td>\n",
       "      <td>3113</td>\n",
       "      <td>1</td>\n",
       "      <td>0</td>\n",
       "      <td>0</td>\n",
       "      <td>1</td>\n",
       "    </tr>\n",
       "    <tr>\n",
       "      <th>1016356</th>\n",
       "      <td>262</td>\n",
       "      <td>2</td>\n",
       "      <td>2013-01-01</td>\n",
       "      <td>17267</td>\n",
       "      <td>2875</td>\n",
       "      <td>1</td>\n",
       "      <td>0</td>\n",
       "      <td>a</td>\n",
       "      <td>1</td>\n",
       "    </tr>\n",
       "  </tbody>\n",
       "</table>\n",
       "</div>"
      ],
      "text/plain": [
       "         Store  DayOfWeek       Date  Sales  Customers  Open  Promo  \\\n",
       "1014126    262          4 2013-01-03  16616       2943     1      0   \n",
       "1015241    262          3 2013-01-02  16964       3113     1      0   \n",
       "1016356    262          2 2013-01-01  17267       2875     1      0   \n",
       "\n",
       "        StateHoliday  SchoolHoliday  \n",
       "1014126            0              1  \n",
       "1015241            0              1  \n",
       "1016356            a              1  "
      ]
     },
     "execution_count": 16,
     "metadata": {},
     "output_type": "execute_result"
    }
   ],
   "source": [
    "store1_sales_data = sales_data[(sales_data['Store']==prim_store) & (sales_data['Open']==1)]\n",
    "store1_sales_data.info()\n",
    "store1_sales_data.tail(3)"
   ]
  },
  {
   "cell_type": "code",
   "execution_count": 17,
   "id": "4e3ab97a-0a22-4671-9a0f-4f88d52e7efa",
   "metadata": {},
   "outputs": [
    {
     "data": {
      "image/png": "[encoded data removed]",
      "text/plain": [
       "<Figure size 1080x576 with 2 Axes>"
      ]
     },
     "metadata": {
      "needs_background": "light"
     },
     "output_type": "display_data"
    }
   ],
   "source": [
    "plt.figure(figsize=(15, 8))\n",
    "plt.title('School Holiday vs Sales')\n",
    "ax = plt.gca()\n",
    "store1_sales_data.plot(x='Date', y='Sales', ax=ax);\n",
    "ax2 = ax.twinx()\n",
    "store1_sales_data.plot(x='Date', y='SchoolHoliday', color='red', ax=ax2,alpha=0.5);"
   ]
  },
  {
   "cell_type": "code",
   "execution_count": 18,
   "id": "117fc91d-f3a7-4d67-8b82-8551bd70aedc",
   "metadata": {},
   "outputs": [
    {
     "data": {
      "text/plain": [
       "Date\n",
       "2015-07-31    25774\n",
       "2015-07-30    22253\n",
       "2015-07-29    21041\n",
       "2015-07-28    22442\n",
       "2015-07-27    22185\n",
       "2015-07-26    32547\n",
       "2015-07-25    17118\n",
       "2015-07-24    18985\n",
       "2015-07-23    17513\n",
       "2015-07-22    17663\n",
       "Name: Sales, dtype: int64"
      ]
     },
     "execution_count": 18,
     "metadata": {},
     "output_type": "execute_result"
    }
   ],
   "source": [
    "sales_store_df = sales_data[(sales_data['Store']==prim_store) & (sales_data['Open']==1)]\n",
    "sales_store_df = sales_store_df.set_index(\"Date\")\n",
    "sales_store_df = sales_store_df[\"Sales\"]\n",
    "sales_store_df.head(10)"
   ]
  },
  {
   "cell_type": "code",
   "execution_count": 19,
   "id": "242c3daa-8c6c-4f72-8c0a-5c33e9d8b261",
   "metadata": {},
   "outputs": [
    {
     "data": {
      "text/plain": [
       "<AxesSubplot:title={'center':'Seasonality'}, xlabel='Date'>"
      ]
     },
     "execution_count": 19,
     "metadata": {},
     "output_type": "execute_result"
    },
    {
     "data": {
      "text/plain": [
       "<Figure size 1080x576 with 0 Axes>"
      ]
     },
     "metadata": {},
     "output_type": "display_data"
    },
    {
     "data": {
      "image/png": "[encoded data removed]",
      "text/plain": [
       "<Figure size 1080x576 with 3 Axes>"
      ]
     },
     "metadata": {
      "needs_background": "light"
     },
     "output_type": "display_data"
    }
   ],
   "source": [
    "from statsmodels.tsa.seasonal import seasonal_decompose\n",
    "plt.figure(figsize=(15, 8))\n",
    "result = seasonal_decompose(sales_store_df, model='multiplicative', period=1)\n",
    "\n",
    "fig, (ax1,ax2,ax3) = plt.subplots(3,1, figsize=(15,8))\n",
    "ax1.set_title('Trend')\n",
    "result.trend.plot(ax=ax1,)\n",
    "ax2.set_title('Residual')\n",
    "result.resid.plot(ax=ax2)\n",
    "ax3.set_title('Seasonality')\n",
    "result.seasonal.plot(ax=ax3)"
   ]
  },
  {
   "cell_type": "markdown",
   "id": "0f80f269-1b9d-4db8-a927-bb2aefa561e0",
   "metadata": {},
   "source": [
    "## Step 2a: Prepare and Save the Target Time Series"
   ]
  },
  {
   "cell_type": "code",
   "execution_count": 20,
   "id": "64381d52-7442-45af-9e8e-b03b46db459e",
   "metadata": {},
   "outputs": [],
   "source": [
    "# what is your forecast horizon in number time units you've selected?\n",
    "# e.g. if you're forecasting in hours, how many months out do you want a forecast?\n",
    "FORECAST_LENGTH = 7\n",
    "\n",
    "# What is your forecast time unit granularity?\n",
    "# Choices are: ^Y|M|W|D|H|30min|15min|10min|5min|1min$ \n",
    "DATASET_FREQUENCY = \"D\"\n",
    "TIMESTAMP_FORMAT = \"yyyy-MM-dd\"\n",
    "# delimiter = ','\n",
    "\n",
    "# What name do you want to give this project?  \n",
    "# We will use this same name for your Forecast Dataset Group name.\n",
    "PROJECT = 'rossmann_store_sales'\n",
    "DATA_VERSION = 2"
   ]
  },
  {
   "cell_type": "code",
   "execution_count": 21,
   "id": "20a22b85-0de1-4774-8073-483e1e8590ee",
   "metadata": {},
   "outputs": [],
   "source": [
    "#renaming columns\n",
    "target_tts_df = sales_data[sales_data['Store']==prim_store].rename(columns={\"Store\":\"item_id\",\"Date\":\"datetime\",\"Sales\":\"count\"})"
   ]
  },
  {
   "cell_type": "code",
   "execution_count": 22,
   "id": "400f4d1b-50f1-456c-a1ec-df21fb0ddd0c",
   "metadata": {},
   "outputs": [
    {
     "data": {
      "text/html": [
       "<div>\n",
       "<style scoped>\n",
       "    .dataframe tbody tr th:only-of-type {\n",
       "        vertical-align: middle;\n",
       "    }\n",
       "\n",
       "    .dataframe tbody tr th {\n",
       "        vertical-align: top;\n",
       "    }\n",
       "\n",
       "    .dataframe thead th {\n",
       "        text-align: right;\n",
       "    }\n",
       "</style>\n",
       "<table border=\"1\" class=\"dataframe\">\n",
       "  <thead>\n",
       "    <tr style=\"text-align: right;\">\n",
       "      <th></th>\n",
       "      <th>item_id</th>\n",
       "      <th>datetime</th>\n",
       "      <th>count</th>\n",
       "    </tr>\n",
       "  </thead>\n",
       "  <tbody>\n",
       "    <tr>\n",
       "      <th>0</th>\n",
       "      <td>262</td>\n",
       "      <td>2015-07-31</td>\n",
       "      <td>25774</td>\n",
       "    </tr>\n",
       "    <tr>\n",
       "      <th>1</th>\n",
       "      <td>262</td>\n",
       "      <td>2015-07-30</td>\n",
       "      <td>22253</td>\n",
       "    </tr>\n",
       "    <tr>\n",
       "      <th>2</th>\n",
       "      <td>262</td>\n",
       "      <td>2015-07-29</td>\n",
       "      <td>21041</td>\n",
       "    </tr>\n",
       "    <tr>\n",
       "      <th>3</th>\n",
       "      <td>262</td>\n",
       "      <td>2015-07-28</td>\n",
       "      <td>22442</td>\n",
       "    </tr>\n",
       "    <tr>\n",
       "      <th>4</th>\n",
       "      <td>262</td>\n",
       "      <td>2015-07-27</td>\n",
       "      <td>22185</td>\n",
       "    </tr>\n",
       "    <tr>\n",
       "      <th>...</th>\n",
       "      <td>...</td>\n",
       "      <td>...</td>\n",
       "      <td>...</td>\n",
       "    </tr>\n",
       "    <tr>\n",
       "      <th>930</th>\n",
       "      <td>262</td>\n",
       "      <td>2013-01-12</td>\n",
       "      <td>14880</td>\n",
       "    </tr>\n",
       "    <tr>\n",
       "      <th>931</th>\n",
       "      <td>262</td>\n",
       "      <td>2013-01-11</td>\n",
       "      <td>20625</td>\n",
       "    </tr>\n",
       "    <tr>\n",
       "      <th>932</th>\n",
       "      <td>262</td>\n",
       "      <td>2013-01-10</td>\n",
       "      <td>18047</td>\n",
       "    </tr>\n",
       "    <tr>\n",
       "      <th>933</th>\n",
       "      <td>262</td>\n",
       "      <td>2013-01-09</td>\n",
       "      <td>19113</td>\n",
       "    </tr>\n",
       "    <tr>\n",
       "      <th>934</th>\n",
       "      <td>262</td>\n",
       "      <td>2013-01-08</td>\n",
       "      <td>19161</td>\n",
       "    </tr>\n",
       "  </tbody>\n",
       "</table>\n",
       "<p>935 rows × 3 columns</p>\n",
       "</div>"
      ],
      "text/plain": [
       "     item_id   datetime  count\n",
       "0        262 2015-07-31  25774\n",
       "1        262 2015-07-30  22253\n",
       "2        262 2015-07-29  21041\n",
       "3        262 2015-07-28  22442\n",
       "4        262 2015-07-27  22185\n",
       "..       ...        ...    ...\n",
       "930      262 2013-01-12  14880\n",
       "931      262 2013-01-11  20625\n",
       "932      262 2013-01-10  18047\n",
       "933      262 2013-01-09  19113\n",
       "934      262 2013-01-08  19161\n",
       "\n",
       "[935 rows x 3 columns]"
      ]
     },
     "execution_count": 22,
     "metadata": {},
     "output_type": "execute_result"
    }
   ],
   "source": [
    "target_tts_df = target_tts_df[['item_id', 'datetime', 'count']][:-FORECAST_LENGTH]\n",
    "target_tts_df.reset_index(drop=True)"
   ]
  },
  {
   "cell_type": "raw",
   "id": "e82cdc48-1b5f-4417-b10b-46a4bcf1ddb1",
   "metadata": {},
   "source": [
    "Notice in the output above there are 3 columns of data:\n",
    "\n",
    "- An Item ID\n",
    "- The Timestamp\n",
    "- A Value\n",
    "These are the 3 key required pieces of information to generate a forecast with Amazon Forecast. More can be added but these 3 must always remain present."
   ]
  },
  {
   "cell_type": "markdown",
   "id": "5a58e021-62a9-4334-b356-5ff652b45d18",
   "metadata": {},
   "source": [
    "## Step 2b: Prepare and Save the Related Time Series "
   ]
  },
  {
   "cell_type": "markdown",
   "id": "88f99d98-4daf-431e-ad0f-4db34b09b02d",
   "metadata": {},
   "source": [
    "To use the related time series, we need to ensure that the related time series covers the whole target time series, as well as the future values as specified by the forecast horizon. More precisely, we need to make sure:\n",
    "\n",
    "> len(related time series) >= len(target time series) + forecast horizon\n",
    "\n",
    "Basically, all items need to have data start at or before the item start date, and have data until the forecast horizon (i.e. the latest end date across all items + forecast horizon). Additionally, there should be no missing values in the related time series. The following picture illustrates the desired logic."
   ]
  },
  {
   "cell_type": "code",
   "execution_count": 23,
   "id": "44766d40-a065-463a-8dcc-ec958369cab7",
   "metadata": {},
   "outputs": [
    {
     "data": {
      "text/html": [
       "<div>\n",
       "<style scoped>\n",
       "    .dataframe tbody tr th:only-of-type {\n",
       "        vertical-align: middle;\n",
       "    }\n",
       "\n",
       "    .dataframe tbody tr th {\n",
       "        vertical-align: top;\n",
       "    }\n",
       "\n",
       "    .dataframe thead th {\n",
       "        text-align: right;\n",
       "    }\n",
       "</style>\n",
       "<table border=\"1\" class=\"dataframe\">\n",
       "  <thead>\n",
       "    <tr style=\"text-align: right;\">\n",
       "      <th></th>\n",
       "      <th>item_id</th>\n",
       "      <th>datetime</th>\n",
       "      <th>promo</th>\n",
       "      <th>open</th>\n",
       "    </tr>\n",
       "  </thead>\n",
       "  <tbody>\n",
       "    <tr>\n",
       "      <th>1014126</th>\n",
       "      <td>262</td>\n",
       "      <td>2013-01-03</td>\n",
       "      <td>0</td>\n",
       "      <td>1</td>\n",
       "    </tr>\n",
       "    <tr>\n",
       "      <th>1015241</th>\n",
       "      <td>262</td>\n",
       "      <td>2013-01-02</td>\n",
       "      <td>0</td>\n",
       "      <td>1</td>\n",
       "    </tr>\n",
       "    <tr>\n",
       "      <th>1016356</th>\n",
       "      <td>262</td>\n",
       "      <td>2013-01-01</td>\n",
       "      <td>0</td>\n",
       "      <td>1</td>\n",
       "    </tr>\n",
       "  </tbody>\n",
       "</table>\n",
       "</div>"
      ],
      "text/plain": [
       "         item_id   datetime  promo  open\n",
       "1014126      262 2013-01-03      0     1\n",
       "1015241      262 2013-01-02      0     1\n",
       "1016356      262 2013-01-01      0     1"
      ]
     },
     "execution_count": 23,
     "metadata": {},
     "output_type": "execute_result"
    }
   ],
   "source": [
    "rts_df =  sales_data[sales_data['Store']==prim_store].rename(columns={\"Store\":\"item_id\",\"Date\":\"datetime\",\"Promo\":\"promo\",'Open':'open'})\n",
    "rts_df = rts_df[['item_id', 'datetime', 'promo','open']]\n",
    "rts_df.tail(3)"
   ]
  },
  {
   "cell_type": "markdown",
   "id": "756eeddd-ec0b-492a-a0ab-cd7fc42efcdf",
   "metadata": {},
   "source": [
    "As we can see, the length of the related time series is equal to the length of the target time series plus the forecast horizon."
   ]
  },
  {
   "cell_type": "code",
   "execution_count": 24,
   "id": "48904996-2873-4848-9c38-66f8c756f8ba",
   "metadata": {},
   "outputs": [
    {
     "name": "stdout",
     "output_type": "stream",
     "text": [
      "935 + 7 = 942\n"
     ]
    }
   ],
   "source": [
    "print(f\"{len(target_tts_df)} + {FORECAST_LENGTH} = {len(rts_df)}\")\n",
    "assert len(target_tts_df) + FORECAST_LENGTH == len(rts_df), \"length doesn't match\""
   ]
  },
  {
   "cell_type": "markdown",
   "id": "04ec4929-051c-416a-90c0-7254c41d3a42",
   "metadata": {},
   "source": [
    "Next we check whether there are \"holes\" in the related time series."
   ]
  },
  {
   "cell_type": "code",
   "execution_count": 25,
   "id": "1a89d52e-20bc-40bb-88ad-2ebbdc382897",
   "metadata": {},
   "outputs": [],
   "source": [
    "ls = list(rts_df['datetime'])\n",
    "ls.sort()\n",
    "assert len(rts_df) == len(pd.date_range(\n",
    "    start=ls[0],\n",
    "    end=ls[-1],\n",
    "    freq='D'\n",
    "))*rts_df[\"item_id\"].nunique(), \"missing entries in the related time series\""
   ]
  },
  {
   "cell_type": "code",
   "execution_count": 26,
   "id": "716c0a84-5d4e-4e9b-977e-f7e3357c345d",
   "metadata": {},
   "outputs": [],
   "source": [
    "target_tts_df.to_csv(f\"data/rossmann_store_{prim_store}_tts.csv\", index= False, header = False)\n",
    "rts_df.to_csv(f\"data/rossmann_store_{prim_store}_rts.csv\", index= False, header = False)"
   ]
  },
  {
   "cell_type": "markdown",
   "id": "2e3cc6d5-9dc5-426a-9178-31b36fdc82ad",
   "metadata": {},
   "source": [
    "At this time the data is ready to be sent to S3 where Forecast will use it later. The following cells will upload the data to S3."
   ]
  },
  {
   "cell_type": "code",
   "execution_count": 27,
   "id": "0bdf9a49-67aa-4c79-9190-14e25b293315",
   "metadata": {},
   "outputs": [],
   "source": [
    "key = \"rossmann_store\"\n",
    "\n",
    "s3.upload_file(Filename=f\"data/rossmann_store_{prim_store}_tts.csv\", Bucket = bucket_name, Key = f\"{key}/{prim_store}.csv\")\n",
    "s3.upload_file(Filename=f\"data/rossmann_store_{prim_store}_rts.csv\", Bucket = bucket_name, Key = f\"{key}/{prim_store}_rts.csv\")"
   ]
  },
  {
   "cell_type": "markdown",
   "id": "20e6b22d-ae51-499d-a140-383f5dd62011",
   "metadata": {},
   "source": [
    "## Step 3: Create the Dataset Group and Dataset"
   ]
  },
  {
   "cell_type": "markdown",
   "id": "97046869-6191-4323-99bb-067b31d1b056",
   "metadata": {},
   "source": [
    "First let's create a dataset group and then update it later to add our datasets.\n",
    "\n",
    "In Amazon Forecast , a dataset is a collection of file(s) which contain data that is relevant for a forecasting task. A dataset must conform to a schema provided by Amazon Forecast. Since data files are imported headerless, it is important to define a schema for your data.\n",
    "\n",
    "For this example, we are using RETAIL domain with 3 required attributes timestamp, target_value and item_id."
   ]
  },
  {
   "cell_type": "markdown",
   "id": "694c12ae-d34e-4e6b-b13d-bf68adc3253c",
   "metadata": {},
   "source": [
    "### Create the Dataset Group"
   ]
  },
  {
   "cell_type": "markdown",
   "id": "a32800b4-9513-4561-b382-e803d2c1139e",
   "metadata": {},
   "source": [
    "In this task, we define a container name or Dataset Group name, which will be used to keep track of Dataset import files, schema, and all Forecast results which go together"
   ]
  },
  {
   "cell_type": "code",
   "execution_count": 28,
   "id": "9f3f0543-3e20-450c-b194-7406e43bb7d3",
   "metadata": {},
   "outputs": [
    {
     "name": "stdout",
     "output_type": "stream",
     "text": [
      "Dataset Group Name = rossmann_store_sales_2\n"
     ]
    }
   ],
   "source": [
    "dataset_group = f\"{PROJECT}_{DATA_VERSION}\"\n",
    "print(f\"Dataset Group Name = {dataset_group}\")"
   ]
  },
  {
   "cell_type": "code",
   "execution_count": 29,
   "id": "23282024-30f1-4772-aad0-a081c69dbd53",
   "metadata": {},
   "outputs": [],
   "source": [
    "dataset_arns = []\n",
    "\n",
    "create_dataset_group_response = \\\n",
    "    forecast.create_dataset_group(Domain=\"RETAIL\",\n",
    "                                  DatasetGroupName=dataset_group,\n",
    "                                  DatasetArns=dataset_arns)"
   ]
  },
  {
   "cell_type": "code",
   "execution_count": 30,
   "id": "95e2a5cb-d73c-4521-b8ed-d3d579a34d59",
   "metadata": {},
   "outputs": [],
   "source": [
    "dataset_group_arn = create_dataset_group_response['DatasetGroupArn']"
   ]
  },
  {
   "cell_type": "code",
   "execution_count": 31,
   "id": "7a36109e-1e85-4b04-b30a-0293495360c0",
   "metadata": {},
   "outputs": [
    {
     "data": {
      "text/plain": [
       "{'DatasetGroupName': 'rossmann_store_sales_2',\n",
       " 'DatasetGroupArn': 'arn:aws:forecast:ap-south-1:843203996641:dataset-group/rossmann_store_sales_2',\n",
       " 'DatasetArns': [],\n",
       " 'Domain': 'RETAIL',\n",
       " 'Status': 'ACTIVE',\n",
       " 'CreationTime': datetime.datetime(2021, 9, 21, 21, 27, 29, 282000, tzinfo=tzlocal()),\n",
       " 'LastModificationTime': datetime.datetime(2021, 9, 21, 21, 27, 29, 282000, tzinfo=tzlocal()),\n",
       " 'ResponseMetadata': {'RequestId': 'c20f824b-5b0b-48c3-a183-69e48927fa55',\n",
       "  'HTTPStatusCode': 200,\n",
       "  'HTTPHeaders': {'content-type': 'application/x-amz-json-1.1',\n",
       "   'date': 'Tue, 21 Sep 2021 15:57:29 GMT',\n",
       "   'x-amzn-requestid': 'c20f824b-5b0b-48c3-a183-69e48927fa55',\n",
       "   'content-length': '268',\n",
       "   'connection': 'keep-alive'},\n",
       "  'RetryAttempts': 0}}"
      ]
     },
     "execution_count": 31,
     "metadata": {},
     "output_type": "execute_result"
    }
   ],
   "source": [
    "forecast.describe_dataset_group(DatasetGroupArn=dataset_group_arn)"
   ]
  },
  {
   "cell_type": "markdown",
   "id": "4395f2c5-5d79-4e74-a325-50df83fd9670",
   "metadata": {},
   "source": [
    "### Create the Target Schema"
   ]
  },
  {
   "cell_type": "code",
   "execution_count": 32,
   "id": "50e12460-0dc8-442f-bc89-8a833f7dd426",
   "metadata": {},
   "outputs": [],
   "source": [
    "# Specify the schema of your dataset here. Make sure the order of columns matches the raw data files.\n",
    "ts_schema ={\n",
    "   \"Attributes\":[\n",
    "      {\n",
    "         \"AttributeName\":\"item_id\",\n",
    "         \"AttributeType\":\"string\"\n",
    "      },\n",
    "      {\n",
    "         \"AttributeName\":\"timestamp\",\n",
    "         \"AttributeType\":\"timestamp\"\n",
    "      },\n",
    "      {\n",
    "         \"AttributeName\":\"demand\",\n",
    "         \"AttributeType\":\"float\"\n",
    "      }\n",
    "   ]\n",
    "}"
   ]
  },
  {
   "cell_type": "markdown",
   "id": "d84440a4-1805-41f6-9da9-4c8118714c44",
   "metadata": {},
   "source": [
    "### Create a Target Dataset"
   ]
  },
  {
   "cell_type": "code",
   "execution_count": 33,
   "id": "96903d02-2816-427b-a2c9-2290ad93a47d",
   "metadata": {},
   "outputs": [
    {
     "name": "stdout",
     "output_type": "stream",
     "text": [
      "rossmann_store_sales_2_tts\n"
     ]
    }
   ],
   "source": [
    "ts_dataset_name = f\"{PROJECT}_{DATA_VERSION}_tts\"\n",
    "print(ts_dataset_name)"
   ]
  },
  {
   "cell_type": "code",
   "execution_count": 34,
   "id": "c850decd-0b4e-4556-8265-8f7189534c88",
   "metadata": {},
   "outputs": [],
   "source": [
    "response = \\\n",
    "    forecast.create_dataset(Domain=\"RETAIL\",\n",
    "                            DatasetType='TARGET_TIME_SERIES',\n",
    "                            DatasetName=ts_dataset_name,\n",
    "                            DataFrequency=DATASET_FREQUENCY,\n",
    "                            Schema=ts_schema\n",
    "                           )"
   ]
  },
  {
   "cell_type": "code",
   "execution_count": 35,
   "id": "e6fff2bd-6654-4fac-96ff-167c0d373dde",
   "metadata": {},
   "outputs": [],
   "source": [
    "ts_dataset_arn = response['DatasetArn']"
   ]
  },
  {
   "cell_type": "code",
   "execution_count": 36,
   "id": "ca39a5ef-7497-46a6-94e5-96b6147f4abc",
   "metadata": {},
   "outputs": [
    {
     "data": {
      "text/plain": [
       "{'DatasetArn': 'arn:aws:forecast:ap-south-1:843203996641:dataset/rossmann_store_sales_2_tts',\n",
       " 'DatasetName': 'rossmann_store_sales_2_tts',\n",
       " 'Domain': 'RETAIL',\n",
       " 'DatasetType': 'TARGET_TIME_SERIES',\n",
       " 'DataFrequency': 'D',\n",
       " 'Schema': {'Attributes': [{'AttributeName': 'item_id',\n",
       "    'AttributeType': 'string'},\n",
       "   {'AttributeName': 'timestamp', 'AttributeType': 'timestamp'},\n",
       "   {'AttributeName': 'demand', 'AttributeType': 'float'}]},\n",
       " 'EncryptionConfig': {},\n",
       " 'Status': 'ACTIVE',\n",
       " 'CreationTime': datetime.datetime(2021, 9, 21, 21, 27, 29, 488000, tzinfo=tzlocal()),\n",
       " 'LastModificationTime': datetime.datetime(2021, 9, 21, 21, 27, 29, 488000, tzinfo=tzlocal()),\n",
       " 'ResponseMetadata': {'RequestId': 'e5349673-d71c-4b3f-823c-9ed8a7cc485a',\n",
       "  'HTTPStatusCode': 200,\n",
       "  'HTTPHeaders': {'content-type': 'application/x-amz-json-1.1',\n",
       "   'date': 'Tue, 21 Sep 2021 15:57:28 GMT',\n",
       "   'x-amzn-requestid': 'e5349673-d71c-4b3f-823c-9ed8a7cc485a',\n",
       "   'content-length': '508',\n",
       "   'connection': 'keep-alive'},\n",
       "  'RetryAttempts': 0}}"
      ]
     },
     "execution_count": 36,
     "metadata": {},
     "output_type": "execute_result"
    }
   ],
   "source": [
    "forecast.describe_dataset(DatasetArn=ts_dataset_arn)"
   ]
  },
  {
   "cell_type": "markdown",
   "id": "b7cd4e42-1f87-4653-8e22-5ce3551d9df4",
   "metadata": {},
   "source": [
    "### Create the Related Schema"
   ]
  },
  {
   "cell_type": "code",
   "execution_count": 37,
   "id": "3a1dcdef-c21e-47c7-b9dc-b5441c0bcbfe",
   "metadata": {},
   "outputs": [],
   "source": [
    "# Specify the schema of your dataset here. Make sure the order of columns matches the raw data files.\n",
    "rts_schema ={\n",
    "   \"Attributes\":[\n",
    "      {\n",
    "         \"AttributeName\":\"item_id\",\n",
    "         \"AttributeType\":\"string\"\n",
    "      },\n",
    "      {\n",
    "         \"AttributeName\":\"timestamp\",\n",
    "         \"AttributeType\":\"timestamp\"\n",
    "      },\n",
    "      {\n",
    "         \"AttributeName\":\"promo\",\n",
    "         \"AttributeType\":\"integer\"\n",
    "      },\n",
    "      {\n",
    "         \"AttributeName\":\"working\",\n",
    "         \"AttributeType\":\"integer\"\n",
    "      }\n",
    "   ]\n",
    "}"
   ]
  },
  {
   "cell_type": "markdown",
   "id": "4c7894f8-6d0e-4481-998b-c9452ee834bc",
   "metadata": {},
   "source": [
    "### Create a Related Dataset\n",
    "In this example, we will define a related time series."
   ]
  },
  {
   "cell_type": "code",
   "execution_count": 56,
   "id": "72cba0c4-e31c-4aa7-b95e-3174cf2dcd1c",
   "metadata": {},
   "outputs": [
    {
     "name": "stdout",
     "output_type": "stream",
     "text": [
      "rossmann_store_sales_2_rts\n"
     ]
    }
   ],
   "source": [
    "rts_dataset_name = f\"{PROJECT}_{DATA_VERSION}_rts\"\n",
    "print(rts_dataset_name)"
   ]
  },
  {
   "cell_type": "code",
   "execution_count": 57,
   "id": "b43ff268-b26e-4126-bc90-efc28e50512a",
   "metadata": {},
   "outputs": [],
   "source": [
    "response = \\\n",
    "    forecast.create_dataset(Domain=\"RETAIL\",\n",
    "                            DatasetType='RELATED_TIME_SERIES',\n",
    "                            DatasetName=rts_dataset_name,\n",
    "                            DataFrequency=DATASET_FREQUENCY,\n",
    "                            Schema=rts_schema\n",
    "                           )"
   ]
  },
  {
   "cell_type": "code",
   "execution_count": 58,
   "id": "d0e05e84-0388-45cc-ab02-8b1af101f01e",
   "metadata": {},
   "outputs": [],
   "source": [
    "rts_dataset_arn = response['DatasetArn']"
   ]
  },
  {
   "cell_type": "code",
   "execution_count": 59,
   "id": "558a0368-629f-424c-bde1-f8db30ac94a9",
   "metadata": {},
   "outputs": [
    {
     "data": {
      "text/plain": [
       "{'DatasetArn': 'arn:aws:forecast:ap-south-1:843203996641:dataset/rossmann_store_sales_2_rts',\n",
       " 'DatasetName': 'rossmann_store_sales_2_rts',\n",
       " 'Domain': 'RETAIL',\n",
       " 'DatasetType': 'RELATED_TIME_SERIES',\n",
       " 'DataFrequency': 'D',\n",
       " 'Schema': {'Attributes': [{'AttributeName': 'item_id',\n",
       "    'AttributeType': 'string'},\n",
       "   {'AttributeName': 'timestamp', 'AttributeType': 'timestamp'},\n",
       "   {'AttributeName': 'promo', 'AttributeType': 'integer'},\n",
       "   {'AttributeName': 'working', 'AttributeType': 'integer'}]},\n",
       " 'EncryptionConfig': {},\n",
       " 'Status': 'ACTIVE',\n",
       " 'CreationTime': datetime.datetime(2021, 9, 21, 21, 38, 19, 988000, tzinfo=tzlocal()),\n",
       " 'LastModificationTime': datetime.datetime(2021, 9, 21, 21, 38, 19, 988000, tzinfo=tzlocal()),\n",
       " 'ResponseMetadata': {'RequestId': '87ffbb04-2f95-44ef-b89a-8769193bf115',\n",
       "  'HTTPStatusCode': 200,\n",
       "  'HTTPHeaders': {'content-type': 'application/x-amz-json-1.1',\n",
       "   'date': 'Tue, 21 Sep 2021 16:08:22 GMT',\n",
       "   'x-amzn-requestid': '87ffbb04-2f95-44ef-b89a-8769193bf115',\n",
       "   'content-length': '564',\n",
       "   'connection': 'keep-alive'},\n",
       "  'RetryAttempts': 0}}"
      ]
     },
     "execution_count": 59,
     "metadata": {},
     "output_type": "execute_result"
    }
   ],
   "source": [
    "forecast.describe_dataset(DatasetArn=rts_dataset_arn)"
   ]
  },
  {
   "cell_type": "markdown",
   "id": "afd7f70e-5403-4b1e-b030-c719637a99e0",
   "metadata": {},
   "source": [
    "### Update the dataset group with the datasets we created¶\n",
    "You can have multiple datasets under the same dataset group. Update it with the datasets we created before."
   ]
  },
  {
   "cell_type": "code",
   "execution_count": 60,
   "id": "bab4b4dd-bc58-4a73-8821-ef8d055819de",
   "metadata": {},
   "outputs": [
    {
     "data": {
      "text/plain": [
       "{'ResponseMetadata': {'RequestId': '1697a1a8-28db-408f-8320-e0340d807c0f',\n",
       "  'HTTPStatusCode': 200,\n",
       "  'HTTPHeaders': {'content-type': 'application/x-amz-json-1.1',\n",
       "   'date': 'Tue, 21 Sep 2021 16:08:30 GMT',\n",
       "   'x-amzn-requestid': '1697a1a8-28db-408f-8320-e0340d807c0f',\n",
       "   'content-length': '2',\n",
       "   'connection': 'keep-alive'},\n",
       "  'RetryAttempts': 0}}"
      ]
     },
     "execution_count": 60,
     "metadata": {},
     "output_type": "execute_result"
    }
   ],
   "source": [
    "dataset_arns = []\n",
    "dataset_arns.append(ts_dataset_arn)\n",
    "dataset_arns.append(rts_dataset_arn)\n",
    "forecast.update_dataset_group(DatasetGroupArn=dataset_group_arn, DatasetArns=dataset_arns)"
   ]
  },
  {
   "cell_type": "code",
   "execution_count": 61,
   "id": "0cd82c57-dc5c-450f-ac50-e05fc7c0ec8f",
   "metadata": {},
   "outputs": [
    {
     "data": {
      "text/plain": [
       "{'DatasetGroupName': 'rossmann_store_sales_2',\n",
       " 'DatasetGroupArn': 'arn:aws:forecast:ap-south-1:843203996641:dataset-group/rossmann_store_sales_2',\n",
       " 'DatasetArns': ['arn:aws:forecast:ap-south-1:843203996641:dataset/rossmann_store_sales_2_tts',\n",
       "  'arn:aws:forecast:ap-south-1:843203996641:dataset/rossmann_store_sales_2_rts'],\n",
       " 'Domain': 'RETAIL',\n",
       " 'Status': 'ACTIVE',\n",
       " 'CreationTime': datetime.datetime(2021, 9, 21, 21, 27, 29, 282000, tzinfo=tzlocal()),\n",
       " 'LastModificationTime': datetime.datetime(2021, 9, 21, 21, 38, 30, 578000, tzinfo=tzlocal()),\n",
       " 'ResponseMetadata': {'RequestId': 'a9cc5cf1-a153-4bf3-a313-f99b5c475c96',\n",
       "  'HTTPStatusCode': 200,\n",
       "  'HTTPHeaders': {'content-type': 'application/x-amz-json-1.1',\n",
       "   'date': 'Tue, 21 Sep 2021 16:08:34 GMT',\n",
       "   'x-amzn-requestid': 'a9cc5cf1-a153-4bf3-a313-f99b5c475c96',\n",
       "   'content-length': '423',\n",
       "   'connection': 'keep-alive'},\n",
       "  'RetryAttempts': 0}}"
      ]
     },
     "execution_count": 61,
     "metadata": {},
     "output_type": "execute_result"
    }
   ],
   "source": [
    "forecast.describe_dataset_group(DatasetGroupArn=dataset_group_arn)"
   ]
  },
  {
   "cell_type": "markdown",
   "id": "45c093e3-c1c9-409a-8bc9-5b013cc6aff7",
   "metadata": {},
   "source": [
    "## Step 4. Create the Target Time Series Data Import Job\n",
    "Now that Forecast knows how to understand the CSV we are providing, the next step is to import the data from S3 into Amazon Forecast."
   ]
  },
  {
   "cell_type": "code",
   "execution_count": 44,
   "id": "b92c84df-b5b8-446f-aa83-d36c632c1051",
   "metadata": {},
   "outputs": [],
   "source": [
    "s3_data_path = f\"s3://{bucket_name}/{key}\""
   ]
  },
  {
   "cell_type": "code",
   "execution_count": 45,
   "id": "b7078f20-e9c5-4c77-881a-5354a8e5bb1c",
   "metadata": {},
   "outputs": [],
   "source": [
    "ts_s3_data_path = f\"{s3_data_path}/{prim_store}.csv\""
   ]
  },
  {
   "cell_type": "code",
   "execution_count": 46,
   "id": "bd882669-2882-4678-bd42-dccbc19485bf",
   "metadata": {},
   "outputs": [],
   "source": [
    "ts_dataset_import_job_response = \\\n",
    "    forecast.create_dataset_import_job(DatasetImportJobName=dataset_group,\n",
    "                                       DatasetArn=ts_dataset_arn,\n",
    "                                       DataSource= {\n",
    "                                         \"S3Config\" : {\n",
    "                                             \"Path\": ts_s3_data_path,\n",
    "                                             \"RoleArn\": role_arn\n",
    "                                         } \n",
    "                                       },\n",
    "                                       TimestampFormat=TIMESTAMP_FORMAT)"
   ]
  },
  {
   "cell_type": "code",
   "execution_count": 47,
   "id": "a3abe292-75ff-4efa-a705-24cae3509604",
   "metadata": {},
   "outputs": [],
   "source": [
    "ts_dataset_import_job_arn=ts_dataset_import_job_response['DatasetImportJobArn']"
   ]
  },
  {
   "cell_type": "code",
   "execution_count": null,
   "id": "82b0d834-f8d9-4b49-b9e7-c21846e817eb",
   "metadata": {},
   "outputs": [],
   "source": [
    "class StatusIndicator:\n",
    "    \n",
    "    def __init__(self):\n",
    "        self.previous_status = None\n",
    "        self.need_newline = False\n",
    "        \n",
    "    def update( self, status ):\n",
    "        if self.previous_status != status:\n",
    "            if self.need_newline:\n",
    "                sys.stdout.write(\"\\n\")\n",
    "            sys.stdout.write( status + \" \")\n",
    "            self.need_newline = True\n",
    "            self.previous_status = status\n",
    "        else:\n",
    "            sys.stdout.write(\".\")\n",
    "            self.need_newline = True\n",
    "        sys.stdout.flush()\n",
    "\n",
    "    def end(self):\n",
    "        if self.need_newline:\n",
    "            sys.stdout.write(\"\\n\")\n",
    "def wait(callback, time_interval = 10):\n",
    "\n",
    "    status_indicator = StatusIndicator()\n",
    "\n",
    "    while True:\n",
    "        status = callback()['Status']\n",
    "        status_indicator.update(status)\n",
    "        if status in ('ACTIVE', 'CREATE_FAILED'): break\n",
    "        time.sleep(time_interval)\n",
    "\n",
    "    status_indicator.end()\n",
    "    \n",
    "    return (status==\"ACTIVE\")"
   ]
  },
  {
   "cell_type": "markdown",
   "id": "2a4c934a-1353-49b6-b229-1993d5060c31",
   "metadata": {},
   "source": [
    "Check the status of dataset, when the status change from `CREATE_IN_PROGRESS` to `ACTIVE`, we can continue to next steps. Depending on the data size. It can take 10 mins to be ACTIVE. This process will take 5 to 10 minutes."
   ]
  },
  {
   "cell_type": "code",
   "execution_count": 52,
   "id": "1eacc8fc-3f79-4041-a6d4-9e21c67abf51",
   "metadata": {},
   "outputs": [
    {
     "name": "stdout",
     "output_type": "stream",
     "text": [
      "ACTIVE \n"
     ]
    }
   ],
   "source": [
    "\n",
    "status = wait(lambda: forecast.describe_dataset_import_job(DatasetImportJobArn=ts_dataset_import_job_arn))\n",
    "assert status"
   ]
  },
  {
   "cell_type": "markdown",
   "id": "d550b615-979b-4b31-84e6-337a0c87f7d5",
   "metadata": {},
   "source": [
    "## Step 5. Create a Related Time Series Data Import Job"
   ]
  },
  {
   "cell_type": "code",
   "execution_count": 62,
   "id": "67d48b5b-70f8-4dad-ae5f-70173bbd565c",
   "metadata": {},
   "outputs": [],
   "source": [
    "rts_s3_data_path = f\"{s3_data_path}/{prim_store}_rts.csv\""
   ]
  },
  {
   "cell_type": "code",
   "execution_count": 63,
   "id": "8b9230cd-032b-4d33-8d6f-f4aa4067b4b5",
   "metadata": {},
   "outputs": [],
   "source": [
    "rts_dataset_import_job_response = \\\n",
    "    forecast.create_dataset_import_job(DatasetImportJobName=dataset_group,\n",
    "                                       DatasetArn=rts_dataset_arn,\n",
    "                                       DataSource= {\n",
    "                                         \"S3Config\" : {\n",
    "                                             \"Path\": rts_s3_data_path,\n",
    "                                             \"RoleArn\": role_arn\n",
    "                                         } \n",
    "                                       },\n",
    "                                       TimestampFormat=TIMESTAMP_FORMAT)"
   ]
  },
  {
   "cell_type": "code",
   "execution_count": 64,
   "id": "b85f6100-13c6-4134-9acb-556c0eb21eeb",
   "metadata": {},
   "outputs": [],
   "source": [
    "rts_dataset_import_job_arn=rts_dataset_import_job_response['DatasetImportJobArn']"
   ]
  },
  {
   "cell_type": "code",
   "execution_count": 66,
   "id": "9d01a1c9-64ce-40f8-86aa-f50718fa1791",
   "metadata": {},
   "outputs": [
    {
     "name": "stdout",
     "output_type": "stream",
     "text": [
      "CREATE_IN_PROGRESS ...........\n",
      "ACTIVE \n"
     ]
    }
   ],
   "source": [
    "status = wait(lambda: forecast.describe_dataset_import_job(DatasetImportJobArn=rts_dataset_import_job_arn))\n",
    "assert status"
   ]
  },
  {
   "cell_type": "markdown",
   "id": "43a3adb9-a0ba-48a0-a5de-7de078127f89",
   "metadata": {},
   "source": [
    "## Step 6. Choosing an algorithm and evaluating its performance"
   ]
  },
  {
   "cell_type": "markdown",
   "id": "257206f3-54da-4d02-8812-7652eed76e0f",
   "metadata": {},
   "source": [
    "Once the datasets are specified with the corresponding schema, Amazon Forecast will automatically aggregate, at the specified time granularity, all the relevant pieces of information for each item, such as sales, price, promotions, as well as categorical attributes, and generate the desired dataset. Next, one can choose an algorithm (forecasting model) and evaluate how well this particular algorithm works on this dataset. The following graph gives a high-level overview of the forecasting models"
   ]
  },
  {
   "cell_type": "markdown",
   "id": "071ba933-9cfd-4ad1-bbeb-d5788d84f055",
   "metadata": {},
   "source": [
    "#### Step 6a. Train a DeepAR+ Predictor"
   ]
  },
  {
   "cell_type": "code",
   "execution_count": 54,
   "id": "29616933-7328-48a8-9575-d2a71ea1a62d",
   "metadata": {},
   "outputs": [
    {
     "name": "stdout",
     "output_type": "stream",
     "text": [
      "Predictor Name = rossmann_store_sales_2_deep_ar_plus\n"
     ]
    }
   ],
   "source": [
    "# Which algorithm do you want to use?  Choices are:\n",
    "# 1. Choose PerformAutoML=True if you want to let Amazon Forecast choose a recipe automatically.  \n",
    "# 2. If you know which recipe you want, the next level of automation is PerformHPO=True.\n",
    "# 3. Finally, you can specify exactly which recipe and enter your own hyperparameter values\n",
    "# https://docs.aws.amazon.com/forecast/latest/dg/aws-forecast-choosing-recipes.html\n",
    "\n",
    "algorithm_arn = 'arn:aws:forecast:::algorithm/'\n",
    "algorithm = 'Deep_AR_Plus'\n",
    "algorithm_arn_deep_ar_plus = algorithm_arn + algorithm\n",
    "predictor_name_deep_ar = f\"{PROJECT}_{DATA_VERSION}_{algorithm.lower()}\"\n",
    "print(f\"Predictor Name = {predictor_name_deep_ar}\")"
   ]
  },
  {
   "cell_type": "code",
   "execution_count": 67,
   "id": "bc04c77b-fce3-4d24-bdf0-64c76165cecb",
   "metadata": {},
   "outputs": [],
   "source": [
    "create_predictor_response = \\\n",
    "    forecast.create_predictor(PredictorName=predictor_name_deep_ar,\n",
    "                              AlgorithmArn=algorithm_arn_deep_ar_plus,\n",
    "                              ForecastHorizon=FORECAST_LENGTH,\n",
    "                              PerformAutoML=False,\n",
    "                              PerformHPO=False,\n",
    "                              InputDataConfig= {\"DatasetGroupArn\": dataset_group_arn},\n",
    "                              FeaturizationConfig= {\"ForecastFrequency\": DATASET_FREQUENCY}\n",
    "                             )"
   ]
  },
  {
   "cell_type": "code",
   "execution_count": 68,
   "id": "eadaa7a7-c8da-4515-bc2c-3871ab2eabc3",
   "metadata": {},
   "outputs": [],
   "source": [
    "predictor_arn_deep_ar = create_predictor_response['PredictorArn']"
   ]
  },
  {
   "cell_type": "code",
   "execution_count": 70,
   "id": "844436c4-8153-49b1-9197-38fa16c615ca",
   "metadata": {},
   "outputs": [
    {
     "name": "stdout",
     "output_type": "stream",
     "text": [
      "CREATE_IN_PROGRESS ....................................................................................................................................................................................................\n",
      "ACTIVE \n"
     ]
    }
   ],
   "source": [
    "status = wait(lambda: forecast.describe_predictor(PredictorArn=predictor_arn_deep_ar))\n",
    "assert status"
   ]
  },
  {
   "cell_type": "markdown",
   "id": "0c38e033-6502-40c5-b996-c58bd84b895c",
   "metadata": {},
   "source": [
    "### Step 6b. Train a Prophet Predictor "
   ]
  },
  {
   "cell_type": "code",
   "execution_count": 72,
   "id": "14a9431f-a127-4bbf-ac6c-cef156c8803d",
   "metadata": {},
   "outputs": [
    {
     "name": "stdout",
     "output_type": "stream",
     "text": [
      "Predictor Name = rossmann_store_sales_2_prophet\n"
     ]
    }
   ],
   "source": [
    "# Which algorithm do you want to use?  Choices are:\n",
    "# 1. Choose PerformAutoML=True if you want to let Amazon Forecast choose a recipe automatically.  \n",
    "# 2. If you know which recipe you want, the next level of automation is PerformHPO=True.\n",
    "# 3. Finally, you can specify exactly which recipe and enter your own hyperparameter values\n",
    "# https://docs.aws.amazon.com/forecast/latest/dg/aws-forecast-choosing-recipes.html\n",
    "\n",
    "algorithm = 'Prophet'\n",
    "algorithm_arn_prophet = algorithm_arn + algorithm\n",
    "# predictor_name_prophet = f'{project}_{algorithm.lower()}_{idx}'\n",
    "predictor_name_prophet = f\"{PROJECT}_{DATA_VERSION}_{algorithm.lower()}\"\n",
    "print(f\"Predictor Name = {predictor_name_prophet}\")"
   ]
  },
  {
   "cell_type": "code",
   "execution_count": 73,
   "id": "263d518f-19f2-4b9d-957e-e0ab62fb496c",
   "metadata": {},
   "outputs": [],
   "source": [
    "create_predictor_response = \\\n",
    "    forecast.create_predictor(PredictorName=predictor_name_prophet,\n",
    "                              AlgorithmArn=algorithm_arn_prophet,\n",
    "                              ForecastHorizon=FORECAST_LENGTH,\n",
    "                              PerformAutoML=False,\n",
    "                              PerformHPO=False,\n",
    "                              InputDataConfig= {\"DatasetGroupArn\": dataset_group_arn},\n",
    "                              FeaturizationConfig= {\"ForecastFrequency\": DATASET_FREQUENCY}\n",
    "                             )"
   ]
  },
  {
   "cell_type": "code",
   "execution_count": 74,
   "id": "1a478d07-bea6-42a8-ab08-760d15ad17b6",
   "metadata": {},
   "outputs": [],
   "source": [
    "predictor_arn_prophet = create_predictor_response['PredictorArn']"
   ]
  },
  {
   "cell_type": "code",
   "execution_count": 77,
   "id": "f86c3a61-7b02-4394-88cc-e83e6f8b0d5e",
   "metadata": {},
   "outputs": [
    {
     "name": "stdout",
     "output_type": "stream",
     "text": [
      "CREATE_IN_PROGRESS ................................................................................\n",
      "ACTIVE \n"
     ]
    }
   ],
   "source": [
    "status = wait(lambda: forecast.describe_predictor(PredictorArn=predictor_arn_prophet))\n",
    "assert status"
   ]
  },
  {
   "cell_type": "code",
   "execution_count": 78,
   "id": "bd60c087-89c9-4c1f-8c57-fc2fca919499",
   "metadata": {},
   "outputs": [
    {
     "data": {
      "text/plain": [
       "{'PredictorArn': 'arn:aws:forecast:ap-south-1:843203996641:predictor/rossmann_store_sales_2_prophet',\n",
       " 'PredictorName': 'rossmann_store_sales_2_prophet',\n",
       " 'AlgorithmArn': 'arn:aws:forecast:::algorithm/Prophet',\n",
       " 'ForecastHorizon': 7,\n",
       " 'ForecastTypes': ['0.1', '0.5', '0.9'],\n",
       " 'PerformAutoML': False,\n",
       " 'PerformHPO': False,\n",
       " 'EvaluationParameters': {'NumberOfBacktestWindows': 1,\n",
       "  'BackTestWindowOffset': 7},\n",
       " 'InputDataConfig': {'DatasetGroupArn': 'arn:aws:forecast:ap-south-1:843203996641:dataset-group/rossmann_store_sales_2'},\n",
       " 'FeaturizationConfig': {'ForecastFrequency': 'D',\n",
       "  'Featurizations': [{'AttributeName': 'demand',\n",
       "    'FeaturizationPipeline': [{'FeaturizationMethodName': 'filling',\n",
       "      'FeaturizationMethodParameters': {'aggregation': 'sum',\n",
       "       'backfill': 'zero',\n",
       "       'frontfill': 'none',\n",
       "       'middlefill': 'zero'}}]},\n",
       "   {'AttributeName': 'promo',\n",
       "    'FeaturizationPipeline': [{'FeaturizationMethodName': 'filling',\n",
       "      'FeaturizationMethodParameters': {'aggregation': 'first',\n",
       "       'backfill': 'none',\n",
       "       'frontfill': 'none',\n",
       "       'futurefill': 'none',\n",
       "       'middlefill': 'none'}}]},\n",
       "   {'AttributeName': 'working',\n",
       "    'FeaturizationPipeline': [{'FeaturizationMethodName': 'filling',\n",
       "      'FeaturizationMethodParameters': {'aggregation': 'first',\n",
       "       'backfill': 'none',\n",
       "       'frontfill': 'none',\n",
       "       'futurefill': 'none',\n",
       "       'middlefill': 'none'}}]}]},\n",
       " 'PredictorExecutionDetails': {'PredictorExecutions': [{'AlgorithmArn': 'arn:aws:forecast:::algorithm/Prophet',\n",
       "    'TestWindows': [{'TestWindowStart': datetime.datetime(2015, 7, 25, 5, 30, tzinfo=tzlocal()),\n",
       "      'TestWindowEnd': datetime.datetime(2015, 8, 1, 5, 30, tzinfo=tzlocal()),\n",
       "      'Status': 'ACTIVE'}]}]},\n",
       " 'DatasetImportJobArns': ['arn:aws:forecast:ap-south-1:843203996641:dataset-import-job/rossmann_store_sales_2_tts/rossmann_store_sales_2',\n",
       "  'arn:aws:forecast:ap-south-1:843203996641:dataset-import-job/rossmann_store_sales_2_rts/rossmann_store_sales_2'],\n",
       " 'AutoMLAlgorithmArns': ['arn:aws:forecast:::algorithm/Prophet'],\n",
       " 'Status': 'ACTIVE',\n",
       " 'CreationTime': datetime.datetime(2021, 9, 21, 22, 18, 50, 589000, tzinfo=tzlocal()),\n",
       " 'LastModificationTime': datetime.datetime(2021, 9, 21, 22, 33, 10, 678000, tzinfo=tzlocal()),\n",
       " 'ResponseMetadata': {'RequestId': 'c84a34b8-5641-435d-a44e-1de7cf0984bb',\n",
       "  'HTTPStatusCode': 200,\n",
       "  'HTTPHeaders': {'content-type': 'application/x-amz-json-1.1',\n",
       "   'date': 'Tue, 21 Sep 2021 17:03:16 GMT',\n",
       "   'x-amzn-requestid': 'c84a34b8-5641-435d-a44e-1de7cf0984bb',\n",
       "   'content-length': '1819',\n",
       "   'connection': 'keep-alive'},\n",
       "  'RetryAttempts': 0}}"
      ]
     },
     "execution_count": 78,
     "metadata": {},
     "output_type": "execute_result"
    }
   ],
   "source": [
    "forecast.describe_predictor(PredictorArn=predictor_arn_prophet)"
   ]
  },
  {
   "cell_type": "markdown",
   "id": "a4f3a960-44f0-4e67-95fb-992b64eb2a53",
   "metadata": {},
   "source": [
    "## Step 6d. Get Predictor Error Metrics from Backtesting \n",
    "After creating the predictors, we can query the errors given by the backtest scenario and have a quantitative understanding of the performance of the algorithm. During model development, it is common to experiment and produce different predictors. By comparing error metrics from the different predictors, data scientists typically iterate to decide the best model or predictor to use before deploying it into a production environment.\n",
    "\n"
   ]
  },
  {
   "cell_type": "code",
   "execution_count": 79,
   "id": "74732fba-251a-4b3e-9016-3a8d0c181dc8",
   "metadata": {},
   "outputs": [
    {
     "data": {
      "text/plain": [
       "{'PredictorEvaluationResults': [{'AlgorithmArn': 'arn:aws:forecast:::algorithm/Deep_AR_Plus',\n",
       "   'TestWindows': [{'EvaluationType': 'SUMMARY',\n",
       "     'Metrics': {'RMSE': 1504.4072128566445,\n",
       "      'WeightedQuantileLosses': [{'Quantile': 0.9,\n",
       "        'LossValue': 0.011724287998898138},\n",
       "       {'Quantile': 0.5, 'LossValue': 0.05705165881718291},\n",
       "       {'Quantile': 0.1, 'LossValue': 0.03060788146195519}],\n",
       "      'ErrorMetrics': [{'ForecastType': 'mean',\n",
       "        'WAPE': 0.06034079018349045,\n",
       "        'RMSE': 1504.4072128566445,\n",
       "        'MASE': 0.2625408564958672,\n",
       "        'MAPE': 0.06172478263584218}],\n",
       "      'AverageWeightedQuantileLoss': 0.033127942759345406}},\n",
       "    {'TestWindowStart': datetime.datetime(2015, 7, 25, 5, 30, tzinfo=tzlocal()),\n",
       "     'TestWindowEnd': datetime.datetime(2015, 8, 1, 5, 30, tzinfo=tzlocal()),\n",
       "     'ItemCount': 1,\n",
       "     'EvaluationType': 'COMPUTED',\n",
       "     'Metrics': {'RMSE': 1504.4072128566445,\n",
       "      'WeightedQuantileLosses': [{'Quantile': 0.9,\n",
       "        'LossValue': 0.011724287998898138},\n",
       "       {'Quantile': 0.5, 'LossValue': 0.05705165881718291},\n",
       "       {'Quantile': 0.1, 'LossValue': 0.03060788146195519}],\n",
       "      'ErrorMetrics': [{'ForecastType': 'mean',\n",
       "        'WAPE': 0.06034079018349045,\n",
       "        'RMSE': 1504.4072128566445,\n",
       "        'MASE': 0.2625408564958672,\n",
       "        'MAPE': 0.06172478263584218}],\n",
       "      'AverageWeightedQuantileLoss': 0.033127942759345406}}]}],\n",
       " 'ResponseMetadata': {'RequestId': '71e92ef6-2abd-43a7-aeae-251e8765cecb',\n",
       "  'HTTPStatusCode': 200,\n",
       "  'HTTPHeaders': {'content-type': 'application/x-amz-json-1.1',\n",
       "   'date': 'Tue, 21 Sep 2021 17:04:28 GMT',\n",
       "   'x-amzn-requestid': '71e92ef6-2abd-43a7-aeae-251e8765cecb',\n",
       "   'content-length': '1087',\n",
       "   'connection': 'keep-alive'},\n",
       "  'RetryAttempts': 0}}"
      ]
     },
     "execution_count": 79,
     "metadata": {},
     "output_type": "execute_result"
    }
   ],
   "source": [
    "error_metrics_deep_ar_plus = forecast.get_accuracy_metrics(PredictorArn=predictor_arn_deep_ar)\n",
    "error_metrics_deep_ar_plus"
   ]
  },
  {
   "cell_type": "code",
   "execution_count": 80,
   "id": "fa0213ed-aeed-4593-86a7-a19ecfda3d26",
   "metadata": {},
   "outputs": [
    {
     "data": {
      "text/plain": [
       "{'PredictorEvaluationResults': [{'AlgorithmArn': 'arn:aws:forecast:::algorithm/Prophet',\n",
       "   'TestWindows': [{'EvaluationType': 'SUMMARY',\n",
       "     'Metrics': {'RMSE': 3620.6877902203205,\n",
       "      'WeightedQuantileLosses': [{'Quantile': 0.9,\n",
       "        'LossValue': 0.0505032940470117},\n",
       "       {'Quantile': 0.5, 'LossValue': 0.13889385127424786},\n",
       "       {'Quantile': 0.1, 'LossValue': 0.0585287491224016}],\n",
       "      'ErrorMetrics': [{'ForecastType': 'mean',\n",
       "        'WAPE': 0.1400798876156249,\n",
       "        'RMSE': 3620.6877902203205,\n",
       "        'MASE': 0.6094831300786193,\n",
       "        'MAPE': 0.13466792014516119}],\n",
       "      'AverageWeightedQuantileLoss': 0.08264196481455373}},\n",
       "    {'TestWindowStart': datetime.datetime(2015, 7, 25, 5, 30, tzinfo=tzlocal()),\n",
       "     'TestWindowEnd': datetime.datetime(2015, 8, 1, 5, 30, tzinfo=tzlocal()),\n",
       "     'ItemCount': 1,\n",
       "     'EvaluationType': 'COMPUTED',\n",
       "     'Metrics': {'RMSE': 3620.6877902203205,\n",
       "      'WeightedQuantileLosses': [{'Quantile': 0.9,\n",
       "        'LossValue': 0.0505032940470117},\n",
       "       {'Quantile': 0.5, 'LossValue': 0.13889385127424786},\n",
       "       {'Quantile': 0.1, 'LossValue': 0.0585287491224016}],\n",
       "      'ErrorMetrics': [{'ForecastType': 'mean',\n",
       "        'WAPE': 0.1400798876156249,\n",
       "        'RMSE': 3620.6877902203205,\n",
       "        'MASE': 0.6094831300786193,\n",
       "        'MAPE': 0.13466792014516119}],\n",
       "      'AverageWeightedQuantileLoss': 0.08264196481455373}}]}],\n",
       " 'ResponseMetadata': {'RequestId': 'd5ddafb2-cc45-4ca9-a3d8-73a82635eac9',\n",
       "  'HTTPStatusCode': 200,\n",
       "  'HTTPHeaders': {'content-type': 'application/x-amz-json-1.1',\n",
       "   'date': 'Tue, 21 Sep 2021 17:04:29 GMT',\n",
       "   'x-amzn-requestid': 'd5ddafb2-cc45-4ca9-a3d8-73a82635eac9',\n",
       "   'content-length': '1072',\n",
       "   'connection': 'keep-alive'},\n",
       "  'RetryAttempts': 0}}"
      ]
     },
     "execution_count": 80,
     "metadata": {},
     "output_type": "execute_result"
    }
   ],
   "source": [
    "error_metrics_prophet = forecast.get_accuracy_metrics(PredictorArn=predictor_arn_prophet)\n",
    "error_metrics_prophet"
   ]
  },
  {
   "cell_type": "code",
   "execution_count": 81,
   "id": "68edcbde-44d2-4f70-86ea-a9caf44ce982",
   "metadata": {},
   "outputs": [],
   "source": [
    "def extract_summary_metrics(metric_response, predictor_name):\n",
    "    df = pd.DataFrame(metric_response['PredictorEvaluationResults']\n",
    "                 [0]['TestWindows'][0]['Metrics']['WeightedQuantileLosses'])\n",
    "    df['Predictor'] = predictor_name\n",
    "    return df"
   ]
  },
  {
   "cell_type": "code",
   "execution_count": 82,
   "id": "e8f08cc3-6214-48fb-b749-5a5a7ae8f641",
   "metadata": {},
   "outputs": [],
   "source": [
    "deep_ar_metrics = extract_summary_metrics(error_metrics_deep_ar_plus, \"DeepAR\")\n",
    "prophet_metrics = extract_summary_metrics(error_metrics_prophet, \"Prophet\")"
   ]
  },
  {
   "cell_type": "code",
   "execution_count": 83,
   "id": "6c2c0d7d-74b0-4b5c-bfe5-7c9ee8dfa798",
   "metadata": {},
   "outputs": [
    {
     "data": {
      "image/png": "[encoded data removed]",
      "text/plain": [
       "<Figure size 432x288 with 1 Axes>"
      ]
     },
     "metadata": {
      "needs_background": "light"
     },
     "output_type": "display_data"
    }
   ],
   "source": [
    "pd.concat([deep_ar_metrics, prophet_metrics]) \\\n",
    "    .pivot(index='Quantile', columns='Predictor', values='LossValue').plot.bar();"
   ]
  },
  {
   "cell_type": "markdown",
   "id": "ad0d4bd3-5620-41cf-8986-394ffe1b070d",
   "metadata": {},
   "source": [
    "## Step 7. Create a Forecast"
   ]
  },
  {
   "cell_type": "code",
   "execution_count": 84,
   "id": "6cfcb5a5-9813-4e38-aefb-471b6bd4a2ca",
   "metadata": {},
   "outputs": [
    {
     "name": "stdout",
     "output_type": "stream",
     "text": [
      "Forecast Name = rossmann_store_sales_2_deeparp\n"
     ]
    }
   ],
   "source": [
    "forecast_name_deep_ar = f\"{PROJECT}_{DATA_VERSION}_deeparp\"\n",
    "print(f\"Forecast Name = {forecast_name_deep_ar}\")"
   ]
  },
  {
   "cell_type": "code",
   "execution_count": 85,
   "id": "0dd977ec-bf49-4466-8037-8934f7ba8d90",
   "metadata": {},
   "outputs": [],
   "source": [
    "create_forecast_response_deep_ar = forecast.create_forecast(ForecastName=forecast_name_deep_ar,\n",
    "                                                        PredictorArn=predictor_arn_deep_ar)"
   ]
  },
  {
   "cell_type": "code",
   "execution_count": 86,
   "id": "f4e7a2a8-813e-42df-ab8f-b5c81ecd2245",
   "metadata": {},
   "outputs": [],
   "source": [
    "forecast_arn_deep_ar = create_forecast_response_deep_ar['ForecastArn']"
   ]
  },
  {
   "cell_type": "code",
   "execution_count": 88,
   "id": "1117f66d-a88d-4d46-93da-8a79fd68b65c",
   "metadata": {},
   "outputs": [
    {
     "name": "stdout",
     "output_type": "stream",
     "text": [
      "CREATE_PENDING \n",
      "CREATE_IN_PROGRESS ...................................................................\n",
      "ACTIVE \n"
     ]
    }
   ],
   "source": [
    "status = wait(lambda: forecast.describe_forecast(ForecastArn=forecast_arn_deep_ar))\n",
    "assert status"
   ]
  },
  {
   "cell_type": "code",
   "execution_count": 93,
   "id": "28547e69-10c0-4511-980c-bb9cb7e9e21b",
   "metadata": {},
   "outputs": [
    {
     "data": {
      "text/plain": [
       "{'ForecastArn': 'arn:aws:forecast:ap-south-1:843203996641:forecast/rossmann_store_sales_2_deeparp',\n",
       " 'ForecastName': 'rossmann_store_sales_2_deeparp',\n",
       " 'ForecastTypes': ['0.1', '0.5', '0.9'],\n",
       " 'PredictorArn': 'arn:aws:forecast:ap-south-1:843203996641:predictor/rossmann_store_sales_2_deep_ar_plus',\n",
       " 'DatasetGroupArn': 'arn:aws:forecast:ap-south-1:843203996641:dataset-group/rossmann_store_sales_2',\n",
       " 'Status': 'ACTIVE',\n",
       " 'CreationTime': datetime.datetime(2021, 9, 21, 22, 34, 49, 353000, tzinfo=tzlocal()),\n",
       " 'LastModificationTime': datetime.datetime(2021, 9, 21, 22, 46, 33, 670000, tzinfo=tzlocal()),\n",
       " 'ResponseMetadata': {'RequestId': '5eb9decd-f36e-462c-a98a-7a4ebbd11d5f',\n",
       "  'HTTPStatusCode': 200,\n",
       "  'HTTPHeaders': {'content-type': 'application/x-amz-json-1.1',\n",
       "   'date': 'Tue, 21 Sep 2021 17:20:22 GMT',\n",
       "   'x-amzn-requestid': '5eb9decd-f36e-462c-a98a-7a4ebbd11d5f',\n",
       "   'content-length': '473',\n",
       "   'connection': 'keep-alive'},\n",
       "  'RetryAttempts': 0}}"
      ]
     },
     "execution_count": 93,
     "metadata": {},
     "output_type": "execute_result"
    }
   ],
   "source": [
    "forecast.describe_forecast(ForecastArn=forecast_arn_deep_ar)"
   ]
  },
  {
   "cell_type": "code",
   "execution_count": 94,
   "id": "9c545235-a6c2-4bec-9e68-aa7a5eeed5a1",
   "metadata": {},
   "outputs": [
    {
     "name": "stdout",
     "output_type": "stream",
     "text": [
      "Forecast Name = rossmann_store_sales_2_prophet\n"
     ]
    }
   ],
   "source": [
    "forecast_name_prophet = f\"{PROJECT}_{DATA_VERSION}_prophet\"\n",
    "print(f\"Forecast Name = {forecast_name_prophet}\")"
   ]
  },
  {
   "cell_type": "code",
   "execution_count": 97,
   "id": "b76890d3-9a97-41aa-a210-f1c4e833ebd2",
   "metadata": {},
   "outputs": [],
   "source": [
    "create_forecast_response_prophet = forecast.create_forecast(ForecastName=forecast_name_prophet,\n",
    "                                                        PredictorArn=predictor_arn_prophet)"
   ]
  },
  {
   "cell_type": "code",
   "execution_count": 98,
   "id": "1007f4e4-94b0-4129-83aa-6bffead54629",
   "metadata": {},
   "outputs": [],
   "source": [
    "forecast_arn_prophet = create_forecast_response_prophet['ForecastArn']"
   ]
  },
  {
   "cell_type": "code",
   "execution_count": 99,
   "id": "f2cdb2a9-c4fc-45c6-a0e6-5845b63b928f",
   "metadata": {},
   "outputs": [
    {
     "name": "stdout",
     "output_type": "stream",
     "text": [
      "CREATE_PENDING .\n",
      "CREATE_IN_PROGRESS ..............................................................\n",
      "ACTIVE \n"
     ]
    }
   ],
   "source": [
    "status = wait(lambda: forecast.describe_forecast(ForecastArn=forecast_arn_prophet))\n",
    "assert status"
   ]
  },
  {
   "cell_type": "markdown",
   "id": "71265ea6-0c40-4bd1-8945-737512145d1d",
   "metadata": {},
   "source": [
    "## Step 8. Query a Forecast"
   ]
  },
  {
   "cell_type": "code",
   "execution_count": 90,
   "id": "0c8d822a-5157-4aa8-8684-9cb0af8e4a6b",
   "metadata": {},
   "outputs": [],
   "source": [
    "forecast_response_deep = forecastquery.query_forecast(\n",
    "    ForecastArn=forecast_arn_deep_ar,\n",
    "    Filters={\"item_id\": str(prim_store)})"
   ]
  },
  {
   "cell_type": "code",
   "execution_count": 100,
   "id": "e1641259-5bd2-401d-9bfa-16d073b138fa",
   "metadata": {},
   "outputs": [],
   "source": [
    "forecast_response_prophet = forecastquery.query_forecast(ForecastArn=forecast_arn_prophet,\n",
    "                                                     Filters={\"item_id\":str(prim_store)})"
   ]
  },
  {
   "cell_type": "code",
   "execution_count": 112,
   "id": "755e1d23-4009-4b40-b27e-535008be80ac",
   "metadata": {},
   "outputs": [
    {
     "data": {
      "text/html": [
       "<div>\n",
       "<style scoped>\n",
       "    .dataframe tbody tr th:only-of-type {\n",
       "        vertical-align: middle;\n",
       "    }\n",
       "\n",
       "    .dataframe tbody tr th {\n",
       "        vertical-align: top;\n",
       "    }\n",
       "\n",
       "    .dataframe thead th {\n",
       "        text-align: right;\n",
       "    }\n",
       "</style>\n",
       "<table border=\"1\" class=\"dataframe\">\n",
       "  <thead>\n",
       "    <tr style=\"text-align: right;\">\n",
       "      <th></th>\n",
       "      <th>item_id</th>\n",
       "      <th>timestamp</th>\n",
       "      <th>target</th>\n",
       "    </tr>\n",
       "  </thead>\n",
       "  <tbody>\n",
       "    <tr>\n",
       "      <th>0</th>\n",
       "      <td>262</td>\n",
       "      <td>2015-07-31</td>\n",
       "      <td>25774</td>\n",
       "    </tr>\n",
       "    <tr>\n",
       "      <th>1</th>\n",
       "      <td>262</td>\n",
       "      <td>2015-07-30</td>\n",
       "      <td>22253</td>\n",
       "    </tr>\n",
       "    <tr>\n",
       "      <th>2</th>\n",
       "      <td>262</td>\n",
       "      <td>2015-07-29</td>\n",
       "      <td>21041</td>\n",
       "    </tr>\n",
       "    <tr>\n",
       "      <th>3</th>\n",
       "      <td>262</td>\n",
       "      <td>2015-07-28</td>\n",
       "      <td>22442</td>\n",
       "    </tr>\n",
       "    <tr>\n",
       "      <th>4</th>\n",
       "      <td>262</td>\n",
       "      <td>2015-07-27</td>\n",
       "      <td>22185</td>\n",
       "    </tr>\n",
       "  </tbody>\n",
       "</table>\n",
       "</div>"
      ],
      "text/plain": [
       "   item_id   timestamp  target\n",
       "0      262  2015-07-31   25774\n",
       "1      262  2015-07-30   22253\n",
       "2      262  2015-07-29   21041\n",
       "3      262  2015-07-28   22442\n",
       "4      262  2015-07-27   22185"
      ]
     },
     "execution_count": 112,
     "metadata": {},
     "output_type": "execute_result"
    }
   ],
   "source": [
    "fname = f'./data/rossmann_store_{prim_store}_tts.csv'\n",
    "exact = utils.load_exact_sol(fname, prim_store)\n",
    "exact = exact[exact[\"timestamp\"] > '2015-07-01']\n",
    "exact.head()"
   ]
  },
  {
   "cell_type": "code",
   "execution_count": 113,
   "id": "13408e4f-be35-41f5-ae1e-bce73f4953dc",
   "metadata": {},
   "outputs": [
    {
     "data": {
      "image/png": "[encoded data removed]",
      "text/plain": [
       "<Figure size 432x288 with 1 Axes>"
      ]
     },
     "metadata": {
      "needs_background": "light"
     },
     "output_type": "display_data"
    }
   ],
   "source": [
    "utils.plot_forecasts(forecast_response_deep, exact)\n",
    "plt.title(\"DeepAR Forecast\");"
   ]
  },
  {
   "cell_type": "code",
   "execution_count": 114,
   "id": "f14bef6a-8092-4061-a6f7-4ecd5fd9d58e",
   "metadata": {},
   "outputs": [
    {
     "data": {
      "image/png": "[encoded data removed]",
      "text/plain": [
       "<Figure size 432x288 with 1 Axes>"
      ]
     },
     "metadata": {
      "needs_background": "light"
     },
     "output_type": "display_data"
    }
   ],
   "source": [
    "utils.plot_forecasts(forecast_response_prophet,exact)\n",
    "plt.title(\"Prophet Forecast\");"
   ]
  },
  {
   "cell_type": "markdown",
   "id": "fed7deac-384d-4f73-bc9c-0c4c14b3f18e",
   "metadata": {},
   "source": [
    "## Step 9. Export a Forecast"
   ]
  },
  {
   "cell_type": "code",
   "execution_count": 115,
   "id": "09a06f45-cd2f-432f-9926-8ff2f58cd928",
   "metadata": {},
   "outputs": [],
   "source": [
    "forecast_export_name_deep_ar = f\"{PROJECT}_{DATA_VERSION}_forecast_export_deeparp\"\n",
    "forecast_export_name_deep_ar_path = f\"{s3_data_path}/{forecast_export_name_deep_ar}\""
   ]
  },
  {
   "cell_type": "code",
   "execution_count": 116,
   "id": "dce7776e-5f22-4461-8662-99a950356db7",
   "metadata": {},
   "outputs": [],
   "source": [
    "create_forecast_export_response_deep_ar = \\\n",
    "    forecast.create_forecast_export_job(ForecastExportJobName=forecast_export_name_deep_ar,\n",
    "                                        ForecastArn=forecast_arn_deep_ar,\n",
    "                                        Destination={\n",
    "                                            \"S3Config\" : {\n",
    "                                                \"Path\": forecast_export_name_deep_ar_path,\n",
    "                                                \"RoleArn\": role_arn\n",
    "                                            }\n",
    "                                        })\n",
    "forecast_export_arn_deep_ar = create_forecast_export_response_deep_ar['ForecastExportJobArn']"
   ]
  },
  {
   "cell_type": "code",
   "execution_count": 117,
   "id": "11640147-6236-45c8-8b9a-f97855986039",
   "metadata": {},
   "outputs": [],
   "source": [
    "forecast_export_name_prophet = f\"{PROJECT}_{DATA_VERSION}_forecast_export_prophet\"\n",
    "forecast_export_name_prophet_path = f\"{s3_data_path}/{forecast_export_name_prophet}\""
   ]
  },
  {
   "cell_type": "code",
   "execution_count": 118,
   "id": "bc0dd8e6-76cc-429f-ba8d-58757924798f",
   "metadata": {},
   "outputs": [],
   "source": [
    "create_forecast_export_response_prophet = \\\n",
    "    forecast.create_forecast_export_job(ForecastExportJobName=forecast_export_name_prophet,\n",
    "                                        ForecastArn=forecast_arn_prophet,\n",
    "                                        Destination={\n",
    "                                            \"S3Config\" : {\n",
    "                                                \"Path\": forecast_export_name_prophet_path,\n",
    "                                                \"RoleArn\": role_arn\n",
    "                                            }\n",
    "                                        })\n",
    "forecast_export_arn_prophet = create_forecast_export_response_prophet['ForecastExportJobArn']"
   ]
  },
  {
   "cell_type": "markdown",
   "id": "55649f58-09ba-49b9-a217-0c98d7f309eb",
   "metadata": {},
   "source": [
    "## Step 10. Clean up your Resources"
   ]
  },
  {
   "cell_type": "code",
   "execution_count": null,
   "id": "7c124fbb-8188-413c-aff6-537ed790d490",
   "metadata": {},
   "outputs": [],
   "source": []
  }
 ],
 "metadata": {
  "kernelspec": {
   "display_name": "Python 3 (ipykernel)",
   "language": "python",
   "name": "python3"
  },
  "language_info": {
   "codemirror_mode": {
    "name": "ipython",
    "version": 3
   },
   "file_extension": ".py",
   "mimetype": "text/x-python",
   "name": "python",
   "nbconvert_exporter": "python",
   "pygments_lexer": "ipython3",
   "version": "3.8.11"
  }
 },
 "nbformat": 4,
 "nbformat_minor": 5
}
